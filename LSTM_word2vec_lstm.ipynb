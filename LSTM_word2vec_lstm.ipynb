{
  "cells": [
    {
      "cell_type": "markdown",
      "metadata": {
        "_uuid": "27bfe1228e31840aee73ac741fa498c8fe227a82",
        "id": "pKOxetjgvopi"
      },
      "source": [
        "## Text Classification on Amazon Shoe reviews Dataset with Word2Vec Word Embeddings in Gensim and training using LSTM In Keras."
      ]
    },
    {
      "cell_type": "code",
      "execution_count": null,
      "metadata": {
        "_uuid": "bb5f4f667bcea43bba4e4fdebfddcd6c6ac7820f",
        "colab": {
          "base_uri": "https://localhost:8080/"
        },
        "id": "JphpwqqDvopn",
        "outputId": "eef18089-d8d0-492c-a5d3-8fb085a07b9c"
      },
      "outputs": [
        {
          "output_type": "stream",
          "name": "stdout",
          "text": [
            "Mounted at /content/drive\n"
          ]
        }
      ],
      "source": [
        "from google.colab import drive\n",
        "drive.mount('/content/drive')\n"
      ]
    },
    {
      "cell_type": "markdown",
      "metadata": {
        "_uuid": "89acce557b54ba7cb0ebf85fb3bf22d9e95868a6",
        "id": "QnYcE3YHvopp"
      },
      "source": [
        "### IMPORTING THE MODULES"
      ]
    },
    {
      "cell_type": "code",
      "execution_count": null,
      "metadata": {
        "_uuid": "739312197e54166212116baab4af1d81fb4e9ccb",
        "id": "u4Qoy1EB5hmJ",
        "colab": {
          "base_uri": "https://localhost:8080/"
        },
        "outputId": "a57c3629-4968-46fa-b1cd-765c13ef0e27"
      },
      "outputs": [
        {
          "output_type": "stream",
          "name": "stdout",
          "text": [
            "Looking in indexes: https://pypi.org/simple, https://us-python.pkg.dev/colab-wheels/public/simple/\n",
            "Requirement already satisfied: nltk in /usr/local/lib/python3.7/dist-packages (3.7)\n",
            "Requirement already satisfied: regex>=2021.8.3 in /usr/local/lib/python3.7/dist-packages (from nltk) (2022.6.2)\n",
            "Requirement already satisfied: tqdm in /usr/local/lib/python3.7/dist-packages (from nltk) (4.64.0)\n",
            "Requirement already satisfied: joblib in /usr/local/lib/python3.7/dist-packages (from nltk) (1.1.0)\n",
            "Requirement already satisfied: click in /usr/local/lib/python3.7/dist-packages (from nltk) (7.1.2)\n"
          ]
        },
        {
          "output_type": "stream",
          "name": "stderr",
          "text": [
            "[nltk_data] Downloading package punkt to /root/nltk_data...\n",
            "[nltk_data]   Unzipping tokenizers/punkt.zip.\n",
            "[nltk_data] Downloading package stopwords to /root/nltk_data...\n",
            "[nltk_data]   Unzipping corpora/stopwords.zip.\n",
            "[nltk_data] Downloading package wordnet to /root/nltk_data...\n",
            "[nltk_data] Downloading package averaged_perceptron_tagger to\n",
            "[nltk_data]     /root/nltk_data...\n",
            "[nltk_data]   Unzipping taggers/averaged_perceptron_tagger.zip.\n"
          ]
        }
      ],
      "source": [
        "# Ignore  the warnings\n",
        "import warnings\n",
        "warnings.filterwarnings('always')\n",
        "warnings.filterwarnings('ignore')\n",
        "\n",
        "# data visualisation and manipulation\n",
        "import numpy as np\n",
        "import pandas as pd\n",
        "import matplotlib.pyplot as plt\n",
        "from matplotlib import style\n",
        "import seaborn as sns\n",
        "\n",
        "# sets matplotlib to inline and displays graphs below the corressponding cell.\n",
        "% matplotlib inline  \n",
        "style.use('fivethirtyeight')\n",
        "sns.set(style='whitegrid',color_codes=True)\n",
        "\n",
        "#nltk\n",
        "import nltk\n",
        "!pip install nltk\n",
        "nltk.download('punkt')\n",
        "import nltk\n",
        "nltk.download('stopwords')\n",
        "nltk.download('wordnet')\n",
        "nltk.download('averaged_perceptron_tagger')\n",
        "\n",
        "#preprocessing\n",
        "from nltk.corpus import stopwords  #stopwords\n",
        "from nltk import word_tokenize,sent_tokenize # tokenizing\n",
        "from nltk.stem import PorterStemmer,LancasterStemmer  # using the Porter Stemmer and Lancaster Stemmer and others\n",
        "from nltk.stem.snowball import SnowballStemmer\n",
        "from nltk.stem import WordNetLemmatizer  # lammatizer from WordNet\n",
        "import requests\n",
        "from bs4 import BeautifulSoup\n",
        "# for part-of-speech tagging\n",
        "from nltk import pos_tag\n",
        "\n",
        "# for named entity recognition (NER)\n",
        "from nltk import ne_chunk\n",
        "\n",
        "# vectorizers for creating the document-term-matrix (DTM)\n",
        "from sklearn.feature_extraction.text import TfidfVectorizer,CountVectorizer\n",
        "\n",
        "\n",
        "import re # regex\n",
        "\n",
        "#model_selection\n",
        "from sklearn.model_selection import train_test_split,cross_validate\n",
        "from sklearn.model_selection import KFold\n",
        "from sklearn.model_selection import GridSearchCV\n",
        "\n",
        "#evaluation\n",
        "from sklearn.metrics import accuracy_score,roc_auc_score \n",
        "from sklearn.metrics import classification_report\n",
        "from mlxtend.plotting import plot_confusion_matrix\n",
        "\n",
        "\n",
        "\n",
        " \n",
        "#keras\n",
        "import keras\n",
        "from keras.preprocessing.text import one_hot,Tokenizer\n",
        "from keras.preprocessing.sequence import pad_sequences\n",
        "from keras.models import Sequential\n",
        "from keras.layers import Dense , Flatten ,Embedding,Input,LSTM\n",
        "from keras.models import Model\n",
        "from keras.preprocessing.text import text_to_word_sequence\n",
        "from tensorflow.keras import optimizers\n",
        "\n",
        "from gensim.models import Word2Vec"
      ]
    },
    {
      "cell_type": "markdown",
      "metadata": {
        "_uuid": "cff40d5497523fa8a1815323f6684c66fc1d008e",
        "id": "1sVTYLsSvopr"
      },
      "source": [
        "### LOADING THE DATASET"
      ]
    },
    {
      "cell_type": "code",
      "execution_count": null,
      "metadata": {
        "_uuid": "1abe90648e9f876e84a5ca74717e373d9877c9ab",
        "id": "PxRv4O4w6ELq",
        "colab": {
          "base_uri": "https://localhost:8080/"
        },
        "outputId": "621805c8-bb28-4656-b94b-992456cda4fc"
      },
      "outputs": [
        {
          "output_type": "stream",
          "name": "stderr",
          "text": [
            "b'Skipping line 54101: expected 15 fields, saw 22\\nSkipping line 55857: expected 15 fields, saw 22\\nSkipping line 60448: expected 15 fields, saw 22\\n'\n",
            "b'Skipping line 76918: expected 15 fields, saw 22\\nSkipping line 87925: expected 15 fields, saw 22\\nSkipping line 88500: expected 15 fields, saw 22\\nSkipping line 114276: expected 15 fields, saw 22\\nSkipping line 128751: expected 15 fields, saw 22\\n'\n",
            "b'Skipping line 136095: expected 15 fields, saw 22\\nSkipping line 140007: expected 15 fields, saw 22\\nSkipping line 177148: expected 15 fields, saw 22\\nSkipping line 180087: expected 15 fields, saw 22\\nSkipping line 183010: expected 15 fields, saw 22\\nSkipping line 183949: expected 15 fields, saw 22\\nSkipping line 192879: expected 15 fields, saw 22\\n'\n",
            "b'Skipping line 223261: expected 15 fields, saw 22\\nSkipping line 240588: expected 15 fields, saw 22\\nSkipping line 247955: expected 15 fields, saw 22\\nSkipping line 249336: expected 15 fields, saw 22\\nSkipping line 259363: expected 15 fields, saw 22\\n'\n",
            "b'Skipping line 265664: expected 15 fields, saw 22\\nSkipping line 277141: expected 15 fields, saw 22\\nSkipping line 297657: expected 15 fields, saw 22\\nSkipping line 301661: expected 15 fields, saw 22\\nSkipping line 309377: expected 15 fields, saw 22\\n'\n",
            "b'Skipping line 344785: expected 15 fields, saw 22\\nSkipping line 373123: expected 15 fields, saw 22\\n'\n",
            "b'Skipping line 437625: expected 15 fields, saw 22\\nSkipping line 439026: expected 15 fields, saw 22\\nSkipping line 453540: expected 15 fields, saw 22\\n'\n",
            "b'Skipping line 459450: expected 15 fields, saw 22\\nSkipping line 468663: expected 15 fields, saw 22\\nSkipping line 482395: expected 15 fields, saw 22\\n'\n",
            "b'Skipping line 541205: expected 15 fields, saw 22\\nSkipping line 552195: expected 15 fields, saw 22\\nSkipping line 556974: expected 15 fields, saw 22\\nSkipping line 574056: expected 15 fields, saw 22\\nSkipping line 582215: expected 15 fields, saw 22\\n'\n",
            "b'Skipping line 605428: expected 15 fields, saw 22\\nSkipping line 607292: expected 15 fields, saw 22\\nSkipping line 609689: expected 15 fields, saw 22\\nSkipping line 642724: expected 15 fields, saw 22\\nSkipping line 643401: expected 15 fields, saw 22\\nSkipping line 644251: expected 15 fields, saw 22\\n'\n",
            "b'Skipping line 666488: expected 15 fields, saw 22\\nSkipping line 706286: expected 15 fields, saw 22\\n'\n",
            "b'Skipping line 734419: expected 15 fields, saw 22\\nSkipping line 735910: expected 15 fields, saw 22\\nSkipping line 744996: expected 15 fields, saw 22\\nSkipping line 750340: expected 15 fields, saw 22\\nSkipping line 768733: expected 15 fields, saw 22\\nSkipping line 774206: expected 15 fields, saw 22\\n'\n",
            "b'Skipping line 792985: expected 15 fields, saw 22\\nSkipping line 832430: expected 15 fields, saw 22\\n'\n",
            "b'Skipping line 873437: expected 15 fields, saw 22\\nSkipping line 881702: expected 15 fields, saw 22\\nSkipping line 883194: expected 15 fields, saw 22\\nSkipping line 895053: expected 15 fields, saw 22\\nSkipping line 917189: expected 15 fields, saw 22\\n'\n",
            "b'Skipping line 920384: expected 15 fields, saw 22\\nSkipping line 926024: expected 15 fields, saw 22\\nSkipping line 937160: expected 15 fields, saw 22\\nSkipping line 949530: expected 15 fields, saw 22\\nSkipping line 965534: expected 15 fields, saw 22\\n'\n",
            "b'Skipping line 994267: expected 15 fields, saw 22\\nSkipping line 1001768: expected 15 fields, saw 22\\n'\n",
            "b'Skipping line 1060583: expected 15 fields, saw 22\\nSkipping line 1076464: expected 15 fields, saw 22\\nSkipping line 1090206: expected 15 fields, saw 22\\n'\n",
            "b'Skipping line 1123320: expected 15 fields, saw 22\\nSkipping line 1134620: expected 15 fields, saw 22\\nSkipping line 1161774: expected 15 fields, saw 22\\nSkipping line 1173906: expected 15 fields, saw 22\\n'\n",
            "b'Skipping line 1226184: expected 15 fields, saw 22\\nSkipping line 1227345: expected 15 fields, saw 22\\n'\n",
            "b'Skipping line 1299308: expected 15 fields, saw 22\\n'\n",
            "b'Skipping line 1314885: expected 15 fields, saw 22\\nSkipping line 1319270: expected 15 fields, saw 22\\n'\n",
            "b'Skipping line 1400785: expected 15 fields, saw 22\\n'\n",
            "b'Skipping line 1452664: expected 15 fields, saw 22\\n'\n",
            "b'Skipping line 1553197: expected 15 fields, saw 22\\nSkipping line 1565603: expected 15 fields, saw 22\\n'\n",
            "b'Skipping line 1581194: expected 15 fields, saw 22\\nSkipping line 1588532: expected 15 fields, saw 22\\nSkipping line 1593760: expected 15 fields, saw 22\\n'\n",
            "b'Skipping line 1638506: expected 15 fields, saw 22\\nSkipping line 1684480: expected 15 fields, saw 22\\n'\n",
            "b'Skipping line 1751648: expected 15 fields, saw 22\\nSkipping line 1754239: expected 15 fields, saw 22\\n'\n",
            "b'Skipping line 1813371: expected 15 fields, saw 22\\nSkipping line 1833867: expected 15 fields, saw 22\\n'\n",
            "b'Skipping line 1843271: expected 15 fields, saw 22\\nSkipping line 1878226: expected 15 fields, saw 22\\nSkipping line 1878565: expected 15 fields, saw 22\\nSkipping line 1879284: expected 15 fields, saw 22\\nSkipping line 1879583: expected 15 fields, saw 22\\nSkipping line 1879619: expected 15 fields, saw 22\\nSkipping line 1880224: expected 15 fields, saw 22\\nSkipping line 1881528: expected 15 fields, saw 22\\nSkipping line 1883001: expected 15 fields, saw 22\\nSkipping line 1897746: expected 15 fields, saw 22\\nSkipping line 1900482: expected 15 fields, saw 22\\n'\n",
            "b'Skipping line 1937218: expected 15 fields, saw 22\\nSkipping line 1947384: expected 15 fields, saw 22\\nSkipping line 1950536: expected 15 fields, saw 22\\n'\n",
            "b'Skipping line 1974526: expected 15 fields, saw 22\\nSkipping line 1999157: expected 15 fields, saw 22\\n'\n",
            "b'Skipping line 2049158: expected 15 fields, saw 22\\nSkipping line 2059966: expected 15 fields, saw 22\\n'\n",
            "b'Skipping line 2136949: expected 15 fields, saw 22\\nSkipping line 2139761: expected 15 fields, saw 22\\nSkipping line 2159242: expected 15 fields, saw 22\\n'\n",
            "b'Skipping line 2172137: expected 15 fields, saw 22\\nSkipping line 2225127: expected 15 fields, saw 22\\n'\n",
            "b'Skipping line 2242683: expected 15 fields, saw 22\\n'\n",
            "b'Skipping line 2324179: expected 15 fields, saw 22\\nSkipping line 2350637: expected 15 fields, saw 22\\n'\n",
            "b'Skipping line 2369709: expected 15 fields, saw 22\\nSkipping line 2374408: expected 15 fields, saw 22\\n'\n",
            "b'Skipping line 3001832: expected 15 fields, saw 22\\n'\n",
            "b'Skipping line 3250530: expected 15 fields, saw 22\\n'\n"
          ]
        }
      ],
      "source": [
        "reviews = pd.read_csv('/content/drive/MyDrive/amazon_reviews_us_Shoes_v1_00.tsv', sep='\\t',error_bad_lines=False)\n"
      ]
    },
    {
      "cell_type": "code",
      "source": [
        "reviews.info()"
      ],
      "metadata": {
        "colab": {
          "base_uri": "https://localhost:8080/"
        },
        "id": "qDK6nfiCWCLc",
        "outputId": "e5ceff6b-62bf-46b0-d6d5-138d5ac9ac3d"
      },
      "execution_count": null,
      "outputs": [
        {
          "output_type": "stream",
          "name": "stdout",
          "text": [
            "<class 'pandas.core.frame.DataFrame'>\n",
            "RangeIndex: 4358820 entries, 0 to 4358819\n",
            "Data columns (total 15 columns):\n",
            " #   Column             Dtype \n",
            "---  ------             ----- \n",
            " 0   marketplace        object\n",
            " 1   customer_id        int64 \n",
            " 2   review_id          object\n",
            " 3   product_id         object\n",
            " 4   product_parent     int64 \n",
            " 5   product_title      object\n",
            " 6   product_category   object\n",
            " 7   star_rating        int64 \n",
            " 8   helpful_votes      int64 \n",
            " 9   total_votes        int64 \n",
            " 10  vine               object\n",
            " 11  verified_purchase  object\n",
            " 12  review_headline    object\n",
            " 13  review_body        object\n",
            " 14  review_date        object\n",
            "dtypes: int64(5), object(10)\n",
            "memory usage: 498.8+ MB\n"
          ]
        }
      ]
    },
    {
      "cell_type": "code",
      "execution_count": null,
      "metadata": {
        "_uuid": "7814bbb9e96368171a34663280d4dac827d27a37",
        "id": "QiKI5fM664D9",
        "outputId": "cc9ece87-fe9a-440c-9386-ac94bb79d656",
        "colab": {
          "base_uri": "https://localhost:8080/",
          "height": 513
        }
      },
      "outputs": [
        {
          "output_type": "execute_result",
          "data": {
            "text/plain": [
              "  marketplace  customer_id       review_id  product_id  product_parent  \\\n",
              "0          US     18069663  R3P2HIOQCIN5ZU  B000XB31C0       265024781   \n",
              "1          US     16251825  R12VVR0WH5Q24V  B00CFYZH5W       259035853   \n",
              "2          US     20381037   RNCCKB6TV5EEF  B00S8JNN3Q       666066660   \n",
              "3          US       108364  R2NZXYIVCGB13W  B00XFBPOQG       448483263   \n",
              "4          US     45449350  R2EQ1TG9IT3OEQ  B00SW64Y9W         7853171   \n",
              "\n",
              "                                       product_title product_category  \\\n",
              "0  Minnetonka Men's Double Deerskin Softsole Mocc...            Shoes   \n",
              "1                        Teva Men's Pajaro Flip-Flop            Shoes   \n",
              "2                   Anne Klein Perfect Pair Wristlet            Shoes   \n",
              "3          adidas Men's 10K Lifestyle Runner Sneaker            Shoes   \n",
              "4  OverBling Sneakers for Men Casual Men Shoes Ge...            Shoes   \n",
              "\n",
              "   star_rating  helpful_votes  total_votes vine verified_purchase  \\\n",
              "0            1              0            0    N                 Y   \n",
              "1            5              0            0    N                 Y   \n",
              "2            4              0            0    N                 Y   \n",
              "3            5              0            6    N                 Y   \n",
              "4            3              0            0    N                 Y   \n",
              "\n",
              "       review_headline                                        review_body  \\\n",
              "0                    .  Do not buy: really didn't start to wear them u...   \n",
              "1      super flip flop      provides great cushion as well as archsupport   \n",
              "2  Great clutch purse!  It's perfect if you need something small for c...   \n",
              "3               Badass                                 Getting what u see   \n",
              "4          Three Stars                                              small   \n",
              "\n",
              "  review_date  \n",
              "0  2015-08-31  \n",
              "1  2015-08-31  \n",
              "2  2015-08-31  \n",
              "3  2015-08-31  \n",
              "4  2015-08-31  "
            ],
            "text/html": [
              "\n",
              "  <div id=\"df-f5a8abca-0999-4f10-ac9e-4925704fedc7\">\n",
              "    <div class=\"colab-df-container\">\n",
              "      <div>\n",
              "<style scoped>\n",
              "    .dataframe tbody tr th:only-of-type {\n",
              "        vertical-align: middle;\n",
              "    }\n",
              "\n",
              "    .dataframe tbody tr th {\n",
              "        vertical-align: top;\n",
              "    }\n",
              "\n",
              "    .dataframe thead th {\n",
              "        text-align: right;\n",
              "    }\n",
              "</style>\n",
              "<table border=\"1\" class=\"dataframe\">\n",
              "  <thead>\n",
              "    <tr style=\"text-align: right;\">\n",
              "      <th></th>\n",
              "      <th>marketplace</th>\n",
              "      <th>customer_id</th>\n",
              "      <th>review_id</th>\n",
              "      <th>product_id</th>\n",
              "      <th>product_parent</th>\n",
              "      <th>product_title</th>\n",
              "      <th>product_category</th>\n",
              "      <th>star_rating</th>\n",
              "      <th>helpful_votes</th>\n",
              "      <th>total_votes</th>\n",
              "      <th>vine</th>\n",
              "      <th>verified_purchase</th>\n",
              "      <th>review_headline</th>\n",
              "      <th>review_body</th>\n",
              "      <th>review_date</th>\n",
              "    </tr>\n",
              "  </thead>\n",
              "  <tbody>\n",
              "    <tr>\n",
              "      <th>0</th>\n",
              "      <td>US</td>\n",
              "      <td>18069663</td>\n",
              "      <td>R3P2HIOQCIN5ZU</td>\n",
              "      <td>B000XB31C0</td>\n",
              "      <td>265024781</td>\n",
              "      <td>Minnetonka Men's Double Deerskin Softsole Mocc...</td>\n",
              "      <td>Shoes</td>\n",
              "      <td>1</td>\n",
              "      <td>0</td>\n",
              "      <td>0</td>\n",
              "      <td>N</td>\n",
              "      <td>Y</td>\n",
              "      <td>.</td>\n",
              "      <td>Do not buy: really didn't start to wear them u...</td>\n",
              "      <td>2015-08-31</td>\n",
              "    </tr>\n",
              "    <tr>\n",
              "      <th>1</th>\n",
              "      <td>US</td>\n",
              "      <td>16251825</td>\n",
              "      <td>R12VVR0WH5Q24V</td>\n",
              "      <td>B00CFYZH5W</td>\n",
              "      <td>259035853</td>\n",
              "      <td>Teva Men's Pajaro Flip-Flop</td>\n",
              "      <td>Shoes</td>\n",
              "      <td>5</td>\n",
              "      <td>0</td>\n",
              "      <td>0</td>\n",
              "      <td>N</td>\n",
              "      <td>Y</td>\n",
              "      <td>super flip flop</td>\n",
              "      <td>provides great cushion as well as archsupport</td>\n",
              "      <td>2015-08-31</td>\n",
              "    </tr>\n",
              "    <tr>\n",
              "      <th>2</th>\n",
              "      <td>US</td>\n",
              "      <td>20381037</td>\n",
              "      <td>RNCCKB6TV5EEF</td>\n",
              "      <td>B00S8JNN3Q</td>\n",
              "      <td>666066660</td>\n",
              "      <td>Anne Klein Perfect Pair Wristlet</td>\n",
              "      <td>Shoes</td>\n",
              "      <td>4</td>\n",
              "      <td>0</td>\n",
              "      <td>0</td>\n",
              "      <td>N</td>\n",
              "      <td>Y</td>\n",
              "      <td>Great clutch purse!</td>\n",
              "      <td>It's perfect if you need something small for c...</td>\n",
              "      <td>2015-08-31</td>\n",
              "    </tr>\n",
              "    <tr>\n",
              "      <th>3</th>\n",
              "      <td>US</td>\n",
              "      <td>108364</td>\n",
              "      <td>R2NZXYIVCGB13W</td>\n",
              "      <td>B00XFBPOQG</td>\n",
              "      <td>448483263</td>\n",
              "      <td>adidas Men's 10K Lifestyle Runner Sneaker</td>\n",
              "      <td>Shoes</td>\n",
              "      <td>5</td>\n",
              "      <td>0</td>\n",
              "      <td>6</td>\n",
              "      <td>N</td>\n",
              "      <td>Y</td>\n",
              "      <td>Badass</td>\n",
              "      <td>Getting what u see</td>\n",
              "      <td>2015-08-31</td>\n",
              "    </tr>\n",
              "    <tr>\n",
              "      <th>4</th>\n",
              "      <td>US</td>\n",
              "      <td>45449350</td>\n",
              "      <td>R2EQ1TG9IT3OEQ</td>\n",
              "      <td>B00SW64Y9W</td>\n",
              "      <td>7853171</td>\n",
              "      <td>OverBling Sneakers for Men Casual Men Shoes Ge...</td>\n",
              "      <td>Shoes</td>\n",
              "      <td>3</td>\n",
              "      <td>0</td>\n",
              "      <td>0</td>\n",
              "      <td>N</td>\n",
              "      <td>Y</td>\n",
              "      <td>Three Stars</td>\n",
              "      <td>small</td>\n",
              "      <td>2015-08-31</td>\n",
              "    </tr>\n",
              "  </tbody>\n",
              "</table>\n",
              "</div>\n",
              "      <button class=\"colab-df-convert\" onclick=\"convertToInteractive('df-f5a8abca-0999-4f10-ac9e-4925704fedc7')\"\n",
              "              title=\"Convert this dataframe to an interactive table.\"\n",
              "              style=\"display:none;\">\n",
              "        \n",
              "  <svg xmlns=\"http://www.w3.org/2000/svg\" height=\"24px\"viewBox=\"0 0 24 24\"\n",
              "       width=\"24px\">\n",
              "    <path d=\"M0 0h24v24H0V0z\" fill=\"none\"/>\n",
              "    <path d=\"M18.56 5.44l.94 2.06.94-2.06 2.06-.94-2.06-.94-.94-2.06-.94 2.06-2.06.94zm-11 1L8.5 8.5l.94-2.06 2.06-.94-2.06-.94L8.5 2.5l-.94 2.06-2.06.94zm10 10l.94 2.06.94-2.06 2.06-.94-2.06-.94-.94-2.06-.94 2.06-2.06.94z\"/><path d=\"M17.41 7.96l-1.37-1.37c-.4-.4-.92-.59-1.43-.59-.52 0-1.04.2-1.43.59L10.3 9.45l-7.72 7.72c-.78.78-.78 2.05 0 2.83L4 21.41c.39.39.9.59 1.41.59.51 0 1.02-.2 1.41-.59l7.78-7.78 2.81-2.81c.8-.78.8-2.07 0-2.86zM5.41 20L4 18.59l7.72-7.72 1.47 1.35L5.41 20z\"/>\n",
              "  </svg>\n",
              "      </button>\n",
              "      \n",
              "  <style>\n",
              "    .colab-df-container {\n",
              "      display:flex;\n",
              "      flex-wrap:wrap;\n",
              "      gap: 12px;\n",
              "    }\n",
              "\n",
              "    .colab-df-convert {\n",
              "      background-color: #E8F0FE;\n",
              "      border: none;\n",
              "      border-radius: 50%;\n",
              "      cursor: pointer;\n",
              "      display: none;\n",
              "      fill: #1967D2;\n",
              "      height: 32px;\n",
              "      padding: 0 0 0 0;\n",
              "      width: 32px;\n",
              "    }\n",
              "\n",
              "    .colab-df-convert:hover {\n",
              "      background-color: #E2EBFA;\n",
              "      box-shadow: 0px 1px 2px rgba(60, 64, 67, 0.3), 0px 1px 3px 1px rgba(60, 64, 67, 0.15);\n",
              "      fill: #174EA6;\n",
              "    }\n",
              "\n",
              "    [theme=dark] .colab-df-convert {\n",
              "      background-color: #3B4455;\n",
              "      fill: #D2E3FC;\n",
              "    }\n",
              "\n",
              "    [theme=dark] .colab-df-convert:hover {\n",
              "      background-color: #434B5C;\n",
              "      box-shadow: 0px 1px 3px 1px rgba(0, 0, 0, 0.15);\n",
              "      filter: drop-shadow(0px 1px 2px rgba(0, 0, 0, 0.3));\n",
              "      fill: #FFFFFF;\n",
              "    }\n",
              "  </style>\n",
              "\n",
              "      <script>\n",
              "        const buttonEl =\n",
              "          document.querySelector('#df-f5a8abca-0999-4f10-ac9e-4925704fedc7 button.colab-df-convert');\n",
              "        buttonEl.style.display =\n",
              "          google.colab.kernel.accessAllowed ? 'block' : 'none';\n",
              "\n",
              "        async function convertToInteractive(key) {\n",
              "          const element = document.querySelector('#df-f5a8abca-0999-4f10-ac9e-4925704fedc7');\n",
              "          const dataTable =\n",
              "            await google.colab.kernel.invokeFunction('convertToInteractive',\n",
              "                                                     [key], {});\n",
              "          if (!dataTable) return;\n",
              "\n",
              "          const docLinkHtml = 'Like what you see? Visit the ' +\n",
              "            '<a target=\"_blank\" href=https://colab.research.google.com/notebooks/data_table.ipynb>data table notebook</a>'\n",
              "            + ' to learn more about interactive tables.';\n",
              "          element.innerHTML = '';\n",
              "          dataTable['output_type'] = 'display_data';\n",
              "          await google.colab.output.renderOutput(dataTable, element);\n",
              "          const docLink = document.createElement('div');\n",
              "          docLink.innerHTML = docLinkHtml;\n",
              "          element.appendChild(docLink);\n",
              "        }\n",
              "      </script>\n",
              "    </div>\n",
              "  </div>\n",
              "  "
            ]
          },
          "metadata": {},
          "execution_count": 8
        }
      ],
      "source": [
        "reviews.head(5)"
      ]
    },
    {
      "cell_type": "markdown",
      "metadata": {
        "_uuid": "f0a9b516821934fff9510beb08e38f854c1204a9",
        "id": "M0w9ULwQvopt"
      },
      "source": [
        "#### A brief description of the dataset\n",
        "\n",
        "Data includes:\n",
        "- 4358820 reviews"
      ]
    },
    {
      "cell_type": "markdown",
      "metadata": {
        "_uuid": "4a92034bd40cb8f1f2e3adf17711001d1d8978da",
        "id": "3Cqvk7IpDsqI"
      },
      "source": [
        "### DATA CLEANING AND PRE-PROCESSING"
      ]
    },
    {
      "cell_type": "markdown",
      "metadata": {
        "_uuid": "8942ed66c74519fe2d4dcb54d144f66e2b45b675",
        "id": "3EPrD5Wqvopu"
      },
      "source": [
        "####  Problem involves sentiment analysis so, separated review_body and ratings as a dataset. "
      ]
    },
    {
      "cell_type": "code",
      "execution_count": null,
      "metadata": {
        "_uuid": "e6d5d863d0efb7bc29ba4f1a2fb51f1e3917e248",
        "id": "04Lhx1IhD4MK"
      },
      "outputs": [],
      "source": [
        "reviews['review_body']=reviews['review_body'].dropna()"
      ]
    },
    {
      "cell_type": "code",
      "execution_count": null,
      "metadata": {
        "_uuid": "9a80c3ae0e318bb9a95071f8aef3205aac25d1e3",
        "id": "fD_pd159D8Yt"
      },
      "outputs": [],
      "source": [
        "data=reviews[['review_body','star_rating']]\n"
      ]
    },
    {
      "cell_type": "code",
      "execution_count": null,
      "metadata": {
        "_uuid": "a7e69cc4da9b9b42a1b09556526ad82b0d16a506",
        "id": "ev-hm43hEZkA",
        "outputId": "92a7cc5a-05c8-4444-d107-a2d9b5aed590",
        "colab": {
          "base_uri": "https://localhost:8080/",
          "height": 206
        }
      },
      "outputs": [
        {
          "output_type": "execute_result",
          "data": {
            "text/plain": [
              "                                         review_body  star_rating\n",
              "0  Do not buy: really didn't start to wear them u...            1\n",
              "1      provides great cushion as well as archsupport            5\n",
              "2  It's perfect if you need something small for c...            4\n",
              "3                                 Getting what u see            5\n",
              "4                                              small            3"
            ],
            "text/html": [
              "\n",
              "  <div id=\"df-8a5dfe0e-7e0f-4d91-a0d5-f9ca5b4d8c33\">\n",
              "    <div class=\"colab-df-container\">\n",
              "      <div>\n",
              "<style scoped>\n",
              "    .dataframe tbody tr th:only-of-type {\n",
              "        vertical-align: middle;\n",
              "    }\n",
              "\n",
              "    .dataframe tbody tr th {\n",
              "        vertical-align: top;\n",
              "    }\n",
              "\n",
              "    .dataframe thead th {\n",
              "        text-align: right;\n",
              "    }\n",
              "</style>\n",
              "<table border=\"1\" class=\"dataframe\">\n",
              "  <thead>\n",
              "    <tr style=\"text-align: right;\">\n",
              "      <th></th>\n",
              "      <th>review_body</th>\n",
              "      <th>star_rating</th>\n",
              "    </tr>\n",
              "  </thead>\n",
              "  <tbody>\n",
              "    <tr>\n",
              "      <th>0</th>\n",
              "      <td>Do not buy: really didn't start to wear them u...</td>\n",
              "      <td>1</td>\n",
              "    </tr>\n",
              "    <tr>\n",
              "      <th>1</th>\n",
              "      <td>provides great cushion as well as archsupport</td>\n",
              "      <td>5</td>\n",
              "    </tr>\n",
              "    <tr>\n",
              "      <th>2</th>\n",
              "      <td>It's perfect if you need something small for c...</td>\n",
              "      <td>4</td>\n",
              "    </tr>\n",
              "    <tr>\n",
              "      <th>3</th>\n",
              "      <td>Getting what u see</td>\n",
              "      <td>5</td>\n",
              "    </tr>\n",
              "    <tr>\n",
              "      <th>4</th>\n",
              "      <td>small</td>\n",
              "      <td>3</td>\n",
              "    </tr>\n",
              "  </tbody>\n",
              "</table>\n",
              "</div>\n",
              "      <button class=\"colab-df-convert\" onclick=\"convertToInteractive('df-8a5dfe0e-7e0f-4d91-a0d5-f9ca5b4d8c33')\"\n",
              "              title=\"Convert this dataframe to an interactive table.\"\n",
              "              style=\"display:none;\">\n",
              "        \n",
              "  <svg xmlns=\"http://www.w3.org/2000/svg\" height=\"24px\"viewBox=\"0 0 24 24\"\n",
              "       width=\"24px\">\n",
              "    <path d=\"M0 0h24v24H0V0z\" fill=\"none\"/>\n",
              "    <path d=\"M18.56 5.44l.94 2.06.94-2.06 2.06-.94-2.06-.94-.94-2.06-.94 2.06-2.06.94zm-11 1L8.5 8.5l.94-2.06 2.06-.94-2.06-.94L8.5 2.5l-.94 2.06-2.06.94zm10 10l.94 2.06.94-2.06 2.06-.94-2.06-.94-.94-2.06-.94 2.06-2.06.94z\"/><path d=\"M17.41 7.96l-1.37-1.37c-.4-.4-.92-.59-1.43-.59-.52 0-1.04.2-1.43.59L10.3 9.45l-7.72 7.72c-.78.78-.78 2.05 0 2.83L4 21.41c.39.39.9.59 1.41.59.51 0 1.02-.2 1.41-.59l7.78-7.78 2.81-2.81c.8-.78.8-2.07 0-2.86zM5.41 20L4 18.59l7.72-7.72 1.47 1.35L5.41 20z\"/>\n",
              "  </svg>\n",
              "      </button>\n",
              "      \n",
              "  <style>\n",
              "    .colab-df-container {\n",
              "      display:flex;\n",
              "      flex-wrap:wrap;\n",
              "      gap: 12px;\n",
              "    }\n",
              "\n",
              "    .colab-df-convert {\n",
              "      background-color: #E8F0FE;\n",
              "      border: none;\n",
              "      border-radius: 50%;\n",
              "      cursor: pointer;\n",
              "      display: none;\n",
              "      fill: #1967D2;\n",
              "      height: 32px;\n",
              "      padding: 0 0 0 0;\n",
              "      width: 32px;\n",
              "    }\n",
              "\n",
              "    .colab-df-convert:hover {\n",
              "      background-color: #E2EBFA;\n",
              "      box-shadow: 0px 1px 2px rgba(60, 64, 67, 0.3), 0px 1px 3px 1px rgba(60, 64, 67, 0.15);\n",
              "      fill: #174EA6;\n",
              "    }\n",
              "\n",
              "    [theme=dark] .colab-df-convert {\n",
              "      background-color: #3B4455;\n",
              "      fill: #D2E3FC;\n",
              "    }\n",
              "\n",
              "    [theme=dark] .colab-df-convert:hover {\n",
              "      background-color: #434B5C;\n",
              "      box-shadow: 0px 1px 3px 1px rgba(0, 0, 0, 0.15);\n",
              "      filter: drop-shadow(0px 1px 2px rgba(0, 0, 0, 0.3));\n",
              "      fill: #FFFFFF;\n",
              "    }\n",
              "  </style>\n",
              "\n",
              "      <script>\n",
              "        const buttonEl =\n",
              "          document.querySelector('#df-8a5dfe0e-7e0f-4d91-a0d5-f9ca5b4d8c33 button.colab-df-convert');\n",
              "        buttonEl.style.display =\n",
              "          google.colab.kernel.accessAllowed ? 'block' : 'none';\n",
              "\n",
              "        async function convertToInteractive(key) {\n",
              "          const element = document.querySelector('#df-8a5dfe0e-7e0f-4d91-a0d5-f9ca5b4d8c33');\n",
              "          const dataTable =\n",
              "            await google.colab.kernel.invokeFunction('convertToInteractive',\n",
              "                                                     [key], {});\n",
              "          if (!dataTable) return;\n",
              "\n",
              "          const docLinkHtml = 'Like what you see? Visit the ' +\n",
              "            '<a target=\"_blank\" href=https://colab.research.google.com/notebooks/data_table.ipynb>data table notebook</a>'\n",
              "            + ' to learn more about interactive tables.';\n",
              "          element.innerHTML = '';\n",
              "          dataTable['output_type'] = 'display_data';\n",
              "          await google.colab.output.renderOutput(dataTable, element);\n",
              "          const docLink = document.createElement('div');\n",
              "          docLink.innerHTML = docLinkHtml;\n",
              "          element.appendChild(docLink);\n",
              "        }\n",
              "      </script>\n",
              "    </div>\n",
              "  </div>\n",
              "  "
            ]
          },
          "metadata": {},
          "execution_count": 11
        }
      ],
      "source": [
        "data.head()"
      ]
    },
    {
      "cell_type": "code",
      "execution_count": null,
      "metadata": {
        "_uuid": "c9c101c03b5f5ab8d89ae92b1b3cef6169d398e6",
        "id": "B1LFekjGvopw"
      },
      "outputs": [],
      "source": [
        "def sentiment(i):\n",
        "    if i<=2:\n",
        "        return 0\n",
        "    else:\n",
        "        return 1\n",
        "    \n",
        "data['sentiment'] = data['star_rating'].apply(sentiment)"
      ]
    },
    {
      "cell_type": "code",
      "source": [
        "data.head(2)"
      ],
      "metadata": {
        "colab": {
          "base_uri": "https://localhost:8080/",
          "height": 112
        },
        "id": "fYkVfTkeya5l",
        "outputId": "942f4922-4865-4546-b096-e2510b70885c"
      },
      "execution_count": null,
      "outputs": [
        {
          "output_type": "execute_result",
          "data": {
            "text/plain": [
              "                                         review_body  star_rating  sentiment\n",
              "0  Do not buy: really didn't start to wear them u...            1          0\n",
              "1      provides great cushion as well as archsupport            5          1"
            ],
            "text/html": [
              "\n",
              "  <div id=\"df-121ea021-8179-4e5d-b321-2d260e3f33f4\">\n",
              "    <div class=\"colab-df-container\">\n",
              "      <div>\n",
              "<style scoped>\n",
              "    .dataframe tbody tr th:only-of-type {\n",
              "        vertical-align: middle;\n",
              "    }\n",
              "\n",
              "    .dataframe tbody tr th {\n",
              "        vertical-align: top;\n",
              "    }\n",
              "\n",
              "    .dataframe thead th {\n",
              "        text-align: right;\n",
              "    }\n",
              "</style>\n",
              "<table border=\"1\" class=\"dataframe\">\n",
              "  <thead>\n",
              "    <tr style=\"text-align: right;\">\n",
              "      <th></th>\n",
              "      <th>review_body</th>\n",
              "      <th>star_rating</th>\n",
              "      <th>sentiment</th>\n",
              "    </tr>\n",
              "  </thead>\n",
              "  <tbody>\n",
              "    <tr>\n",
              "      <th>0</th>\n",
              "      <td>Do not buy: really didn't start to wear them u...</td>\n",
              "      <td>1</td>\n",
              "      <td>0</td>\n",
              "    </tr>\n",
              "    <tr>\n",
              "      <th>1</th>\n",
              "      <td>provides great cushion as well as archsupport</td>\n",
              "      <td>5</td>\n",
              "      <td>1</td>\n",
              "    </tr>\n",
              "  </tbody>\n",
              "</table>\n",
              "</div>\n",
              "      <button class=\"colab-df-convert\" onclick=\"convertToInteractive('df-121ea021-8179-4e5d-b321-2d260e3f33f4')\"\n",
              "              title=\"Convert this dataframe to an interactive table.\"\n",
              "              style=\"display:none;\">\n",
              "        \n",
              "  <svg xmlns=\"http://www.w3.org/2000/svg\" height=\"24px\"viewBox=\"0 0 24 24\"\n",
              "       width=\"24px\">\n",
              "    <path d=\"M0 0h24v24H0V0z\" fill=\"none\"/>\n",
              "    <path d=\"M18.56 5.44l.94 2.06.94-2.06 2.06-.94-2.06-.94-.94-2.06-.94 2.06-2.06.94zm-11 1L8.5 8.5l.94-2.06 2.06-.94-2.06-.94L8.5 2.5l-.94 2.06-2.06.94zm10 10l.94 2.06.94-2.06 2.06-.94-2.06-.94-.94-2.06-.94 2.06-2.06.94z\"/><path d=\"M17.41 7.96l-1.37-1.37c-.4-.4-.92-.59-1.43-.59-.52 0-1.04.2-1.43.59L10.3 9.45l-7.72 7.72c-.78.78-.78 2.05 0 2.83L4 21.41c.39.39.9.59 1.41.59.51 0 1.02-.2 1.41-.59l7.78-7.78 2.81-2.81c.8-.78.8-2.07 0-2.86zM5.41 20L4 18.59l7.72-7.72 1.47 1.35L5.41 20z\"/>\n",
              "  </svg>\n",
              "      </button>\n",
              "      \n",
              "  <style>\n",
              "    .colab-df-container {\n",
              "      display:flex;\n",
              "      flex-wrap:wrap;\n",
              "      gap: 12px;\n",
              "    }\n",
              "\n",
              "    .colab-df-convert {\n",
              "      background-color: #E8F0FE;\n",
              "      border: none;\n",
              "      border-radius: 50%;\n",
              "      cursor: pointer;\n",
              "      display: none;\n",
              "      fill: #1967D2;\n",
              "      height: 32px;\n",
              "      padding: 0 0 0 0;\n",
              "      width: 32px;\n",
              "    }\n",
              "\n",
              "    .colab-df-convert:hover {\n",
              "      background-color: #E2EBFA;\n",
              "      box-shadow: 0px 1px 2px rgba(60, 64, 67, 0.3), 0px 1px 3px 1px rgba(60, 64, 67, 0.15);\n",
              "      fill: #174EA6;\n",
              "    }\n",
              "\n",
              "    [theme=dark] .colab-df-convert {\n",
              "      background-color: #3B4455;\n",
              "      fill: #D2E3FC;\n",
              "    }\n",
              "\n",
              "    [theme=dark] .colab-df-convert:hover {\n",
              "      background-color: #434B5C;\n",
              "      box-shadow: 0px 1px 3px 1px rgba(0, 0, 0, 0.15);\n",
              "      filter: drop-shadow(0px 1px 2px rgba(0, 0, 0, 0.3));\n",
              "      fill: #FFFFFF;\n",
              "    }\n",
              "  </style>\n",
              "\n",
              "      <script>\n",
              "        const buttonEl =\n",
              "          document.querySelector('#df-121ea021-8179-4e5d-b321-2d260e3f33f4 button.colab-df-convert');\n",
              "        buttonEl.style.display =\n",
              "          google.colab.kernel.accessAllowed ? 'block' : 'none';\n",
              "\n",
              "        async function convertToInteractive(key) {\n",
              "          const element = document.querySelector('#df-121ea021-8179-4e5d-b321-2d260e3f33f4');\n",
              "          const dataTable =\n",
              "            await google.colab.kernel.invokeFunction('convertToInteractive',\n",
              "                                                     [key], {});\n",
              "          if (!dataTable) return;\n",
              "\n",
              "          const docLinkHtml = 'Like what you see? Visit the ' +\n",
              "            '<a target=\"_blank\" href=https://colab.research.google.com/notebooks/data_table.ipynb>data table notebook</a>'\n",
              "            + ' to learn more about interactive tables.';\n",
              "          element.innerHTML = '';\n",
              "          dataTable['output_type'] = 'display_data';\n",
              "          await google.colab.output.renderOutput(dataTable, element);\n",
              "          const docLink = document.createElement('div');\n",
              "          docLink.innerHTML = docLinkHtml;\n",
              "          element.appendChild(docLink);\n",
              "        }\n",
              "      </script>\n",
              "    </div>\n",
              "  </div>\n",
              "  "
            ]
          },
          "metadata": {},
          "execution_count": 22
        }
      ]
    },
    {
      "cell_type": "code",
      "execution_count": null,
      "metadata": {
        "_uuid": "218cb4ec27d0b4a1509d436f1c26bdb6221e15b7",
        "id": "b9UiXK5PFTYQ",
        "outputId": "ad17a433-0d7f-482f-d9e7-24ae45956e61",
        "colab": {
          "base_uri": "https://localhost:8080/"
        }
      },
      "outputs": [
        {
          "output_type": "execute_result",
          "data": {
            "text/plain": [
              "1    3884692\n",
              "0     474128\n",
              "Name: sentiment, dtype: int64"
            ]
          },
          "metadata": {},
          "execution_count": 32
        }
      ],
      "source": [
        "data['sentiment'].value_counts()"
      ]
    },
    {
      "cell_type": "code",
      "execution_count": null,
      "metadata": {
        "_uuid": "6c9a0e299abc3c1932aa0db184d6044f9a03fafc",
        "colab": {
          "base_uri": "https://localhost:8080/"
        },
        "id": "dsNE9ylhvopx",
        "outputId": "83412619-e27b-4658-e1da-6717f7bda187"
      },
      "outputs": [
        {
          "output_type": "execute_result",
          "data": {
            "text/plain": [
              "335789"
            ]
          },
          "metadata": {},
          "execution_count": 65
        }
      ],
      "source": [
        "data.duplicated().sum()"
      ]
    },
    {
      "cell_type": "code",
      "source": [
        "# remove duplicates/ for every duplicate we will keep only one row of that type. \n",
        "df=data.drop_duplicates(inplace=False)"
      ],
      "metadata": {
        "id": "L76QZ72FzdHg"
      },
      "execution_count": null,
      "outputs": []
    },
    {
      "cell_type": "markdown",
      "metadata": {
        "_uuid": "c7d8261eda8aaf1e28a5952ad7a71e1d906ecc12",
        "id": "EEV6PivFvopx"
      },
      "source": [
        "#### Note that there is no point for keeping rows with different scores or sentiment for same review text, will keep only one instance and drop the rest of the duplicates."
      ]
    },
    {
      "cell_type": "code",
      "source": [
        "df['review_body']=df['review_body'].apply(str)\n"
      ],
      "metadata": {
        "id": "d9oocLO40IcT"
      },
      "execution_count": null,
      "outputs": []
    },
    {
      "cell_type": "code",
      "execution_count": null,
      "metadata": {
        "_uuid": "b3b2228a4690d40c3ee93695f23cbf3656280b31",
        "id": "IieegGjeRsUx",
        "outputId": "a4c4ecb1-88b6-4b82-dda5-5036a8c6b760",
        "colab": {
          "base_uri": "https://localhost:8080/",
          "height": 224
        }
      },
      "outputs": [
        {
          "output_type": "stream",
          "name": "stdout",
          "text": [
            "(4023031, 3)\n"
          ]
        },
        {
          "output_type": "execute_result",
          "data": {
            "text/plain": [
              "                                         review_body  star_rating  sentiment\n",
              "0  Do not buy: really didn't start to wear them u...            1          0\n",
              "1      provides great cushion as well as archsupport            5          1\n",
              "2  It's perfect if you need something small for c...            4          1\n",
              "3                                 Getting what u see            5          1\n",
              "4                                              small            3          1"
            ],
            "text/html": [
              "\n",
              "  <div id=\"df-ee1be8b6-e4c2-48ce-8be8-c351bfd6947e\">\n",
              "    <div class=\"colab-df-container\">\n",
              "      <div>\n",
              "<style scoped>\n",
              "    .dataframe tbody tr th:only-of-type {\n",
              "        vertical-align: middle;\n",
              "    }\n",
              "\n",
              "    .dataframe tbody tr th {\n",
              "        vertical-align: top;\n",
              "    }\n",
              "\n",
              "    .dataframe thead th {\n",
              "        text-align: right;\n",
              "    }\n",
              "</style>\n",
              "<table border=\"1\" class=\"dataframe\">\n",
              "  <thead>\n",
              "    <tr style=\"text-align: right;\">\n",
              "      <th></th>\n",
              "      <th>review_body</th>\n",
              "      <th>star_rating</th>\n",
              "      <th>sentiment</th>\n",
              "    </tr>\n",
              "  </thead>\n",
              "  <tbody>\n",
              "    <tr>\n",
              "      <th>0</th>\n",
              "      <td>Do not buy: really didn't start to wear them u...</td>\n",
              "      <td>1</td>\n",
              "      <td>0</td>\n",
              "    </tr>\n",
              "    <tr>\n",
              "      <th>1</th>\n",
              "      <td>provides great cushion as well as archsupport</td>\n",
              "      <td>5</td>\n",
              "      <td>1</td>\n",
              "    </tr>\n",
              "    <tr>\n",
              "      <th>2</th>\n",
              "      <td>It's perfect if you need something small for c...</td>\n",
              "      <td>4</td>\n",
              "      <td>1</td>\n",
              "    </tr>\n",
              "    <tr>\n",
              "      <th>3</th>\n",
              "      <td>Getting what u see</td>\n",
              "      <td>5</td>\n",
              "      <td>1</td>\n",
              "    </tr>\n",
              "    <tr>\n",
              "      <th>4</th>\n",
              "      <td>small</td>\n",
              "      <td>3</td>\n",
              "      <td>1</td>\n",
              "    </tr>\n",
              "  </tbody>\n",
              "</table>\n",
              "</div>\n",
              "      <button class=\"colab-df-convert\" onclick=\"convertToInteractive('df-ee1be8b6-e4c2-48ce-8be8-c351bfd6947e')\"\n",
              "              title=\"Convert this dataframe to an interactive table.\"\n",
              "              style=\"display:none;\">\n",
              "        \n",
              "  <svg xmlns=\"http://www.w3.org/2000/svg\" height=\"24px\"viewBox=\"0 0 24 24\"\n",
              "       width=\"24px\">\n",
              "    <path d=\"M0 0h24v24H0V0z\" fill=\"none\"/>\n",
              "    <path d=\"M18.56 5.44l.94 2.06.94-2.06 2.06-.94-2.06-.94-.94-2.06-.94 2.06-2.06.94zm-11 1L8.5 8.5l.94-2.06 2.06-.94-2.06-.94L8.5 2.5l-.94 2.06-2.06.94zm10 10l.94 2.06.94-2.06 2.06-.94-2.06-.94-.94-2.06-.94 2.06-2.06.94z\"/><path d=\"M17.41 7.96l-1.37-1.37c-.4-.4-.92-.59-1.43-.59-.52 0-1.04.2-1.43.59L10.3 9.45l-7.72 7.72c-.78.78-.78 2.05 0 2.83L4 21.41c.39.39.9.59 1.41.59.51 0 1.02-.2 1.41-.59l7.78-7.78 2.81-2.81c.8-.78.8-2.07 0-2.86zM5.41 20L4 18.59l7.72-7.72 1.47 1.35L5.41 20z\"/>\n",
              "  </svg>\n",
              "      </button>\n",
              "      \n",
              "  <style>\n",
              "    .colab-df-container {\n",
              "      display:flex;\n",
              "      flex-wrap:wrap;\n",
              "      gap: 12px;\n",
              "    }\n",
              "\n",
              "    .colab-df-convert {\n",
              "      background-color: #E8F0FE;\n",
              "      border: none;\n",
              "      border-radius: 50%;\n",
              "      cursor: pointer;\n",
              "      display: none;\n",
              "      fill: #1967D2;\n",
              "      height: 32px;\n",
              "      padding: 0 0 0 0;\n",
              "      width: 32px;\n",
              "    }\n",
              "\n",
              "    .colab-df-convert:hover {\n",
              "      background-color: #E2EBFA;\n",
              "      box-shadow: 0px 1px 2px rgba(60, 64, 67, 0.3), 0px 1px 3px 1px rgba(60, 64, 67, 0.15);\n",
              "      fill: #174EA6;\n",
              "    }\n",
              "\n",
              "    [theme=dark] .colab-df-convert {\n",
              "      background-color: #3B4455;\n",
              "      fill: #D2E3FC;\n",
              "    }\n",
              "\n",
              "    [theme=dark] .colab-df-convert:hover {\n",
              "      background-color: #434B5C;\n",
              "      box-shadow: 0px 1px 3px 1px rgba(0, 0, 0, 0.15);\n",
              "      filter: drop-shadow(0px 1px 2px rgba(0, 0, 0, 0.3));\n",
              "      fill: #FFFFFF;\n",
              "    }\n",
              "  </style>\n",
              "\n",
              "      <script>\n",
              "        const buttonEl =\n",
              "          document.querySelector('#df-ee1be8b6-e4c2-48ce-8be8-c351bfd6947e button.colab-df-convert');\n",
              "        buttonEl.style.display =\n",
              "          google.colab.kernel.accessAllowed ? 'block' : 'none';\n",
              "\n",
              "        async function convertToInteractive(key) {\n",
              "          const element = document.querySelector('#df-ee1be8b6-e4c2-48ce-8be8-c351bfd6947e');\n",
              "          const dataTable =\n",
              "            await google.colab.kernel.invokeFunction('convertToInteractive',\n",
              "                                                     [key], {});\n",
              "          if (!dataTable) return;\n",
              "\n",
              "          const docLinkHtml = 'Like what you see? Visit the ' +\n",
              "            '<a target=\"_blank\" href=https://colab.research.google.com/notebooks/data_table.ipynb>data table notebook</a>'\n",
              "            + ' to learn more about interactive tables.';\n",
              "          element.innerHTML = '';\n",
              "          dataTable['output_type'] = 'display_data';\n",
              "          await google.colab.output.renderOutput(dataTable, element);\n",
              "          const docLink = document.createElement('div');\n",
              "          docLink.innerHTML = docLinkHtml;\n",
              "          element.appendChild(docLink);\n",
              "        }\n",
              "      </script>\n",
              "    </div>\n",
              "  </div>\n",
              "  "
            ]
          },
          "metadata": {},
          "execution_count": 68
        }
      ],
      "source": [
        "# now check the shape. note that shape is reduced which shows that we did has duplicate rows.\n",
        "print(df.shape)\n",
        "df.head()"
      ]
    },
    {
      "cell_type": "markdown",
      "metadata": {
        "_uuid": "a4fd194b0f6814612de5a4fce805eb7649450d75",
        "id": "xlsuYHoe8wY_"
      },
      "source": [
        "#### Pre-processing steps :\n",
        "\n",
        "1 ) First **removing punctuation and html tags** if any. note that the html tags may be present.\n",
        "\n",
        "2) **Tokenize** the reviews into tokens or words .\n",
        "\n",
        "3) Next **remove the stop words and shorter words** as they cause noise.\n",
        "\n",
        "4) **Stem or lemmatize** the words depending on what does better. Herer I have yse lemmatizer."
      ]
    },
    {
      "cell_type": "code",
      "execution_count": null,
      "metadata": {
        "_uuid": "d8d6aa792cfa36dcc1b33cf90213001891e7429d",
        "id": "KIm7Erd586HC"
      },
      "outputs": [],
      "source": [
        "# function to clean and pre-process the text.\n",
        "def clean_reviews(review):  \n",
        "    \n",
        "    # 1. Removing html tags\n",
        "    review_text = BeautifulSoup(review,\"lxml\").get_text()\n",
        "    \n",
        "    # 2. Retaining only alphabets.\n",
        "    review_text = re.sub(\"[^a-zA-Z]\",\" \",review_text)\n",
        "    \n",
        "    # 3. Converting to lower case and splitting\n",
        "    word_tokens= review_text.lower().split()\n",
        "    \n",
        "    # 4. Remove stopwords\n",
        "    le=WordNetLemmatizer()\n",
        "    stop_words= set(stopwords.words(\"english\"))     \n",
        "    word_tokens= [le.lemmatize(w) for w in word_tokens if not w in stop_words]\n",
        "    \n",
        "    cleaned_review=\" \".join(word_tokens)\n",
        "    return cleaned_review"
      ]
    },
    {
      "cell_type": "markdown",
      "metadata": {
        "_uuid": "effe8f6f6870d20e292d2c0b91bc2629f213203b",
        "id": "tzkaC80b96I7"
      },
      "source": [
        "#### Since the data has very large, preprocessing and training the model has been a tedious task, hence to proceed ahead a sample of 50k (in the same proposition of negative and positive in the original data) reviews are considered"
      ]
    },
    {
      "cell_type": "code",
      "execution_count": null,
      "metadata": {
        "_uuid": "6b9d5cde9cac9a93ee404a67bf2e3715ea1a05d4",
        "id": "EtbatAehCwqU"
      },
      "outputs": [],
      "source": [
        "pos_df=df.loc[df.sentiment==1,:][:45000]\n",
        "neg_df=df.loc[df.sentiment==0,:][:5000]"
      ]
    },
    {
      "cell_type": "code",
      "execution_count": null,
      "metadata": {
        "_uuid": "b0e23f9b74e34c04e0f43f9fb2fbb34036820eed",
        "id": "Um1-wLvfEKdN",
        "outputId": "c30d198e-9fd2-43cd-b6d3-8e4b4ea6e979",
        "colab": {
          "base_uri": "https://localhost:8080/",
          "height": 206
        }
      },
      "outputs": [
        {
          "output_type": "execute_result",
          "data": {
            "text/plain": [
              "                                         review_body  star_rating  sentiment\n",
              "1      provides great cushion as well as archsupport            5          1\n",
              "2  It's perfect if you need something small for c...            4          1\n",
              "3                                 Getting what u see            5          1\n",
              "4                                              small            3          1\n",
              "5  My 13 year old son loved these shoes excellent...            5          1"
            ],
            "text/html": [
              "\n",
              "  <div id=\"df-68c92bcf-0b45-4feb-8a4b-8a8e00b98ec2\">\n",
              "    <div class=\"colab-df-container\">\n",
              "      <div>\n",
              "<style scoped>\n",
              "    .dataframe tbody tr th:only-of-type {\n",
              "        vertical-align: middle;\n",
              "    }\n",
              "\n",
              "    .dataframe tbody tr th {\n",
              "        vertical-align: top;\n",
              "    }\n",
              "\n",
              "    .dataframe thead th {\n",
              "        text-align: right;\n",
              "    }\n",
              "</style>\n",
              "<table border=\"1\" class=\"dataframe\">\n",
              "  <thead>\n",
              "    <tr style=\"text-align: right;\">\n",
              "      <th></th>\n",
              "      <th>review_body</th>\n",
              "      <th>star_rating</th>\n",
              "      <th>sentiment</th>\n",
              "    </tr>\n",
              "  </thead>\n",
              "  <tbody>\n",
              "    <tr>\n",
              "      <th>1</th>\n",
              "      <td>provides great cushion as well as archsupport</td>\n",
              "      <td>5</td>\n",
              "      <td>1</td>\n",
              "    </tr>\n",
              "    <tr>\n",
              "      <th>2</th>\n",
              "      <td>It's perfect if you need something small for c...</td>\n",
              "      <td>4</td>\n",
              "      <td>1</td>\n",
              "    </tr>\n",
              "    <tr>\n",
              "      <th>3</th>\n",
              "      <td>Getting what u see</td>\n",
              "      <td>5</td>\n",
              "      <td>1</td>\n",
              "    </tr>\n",
              "    <tr>\n",
              "      <th>4</th>\n",
              "      <td>small</td>\n",
              "      <td>3</td>\n",
              "      <td>1</td>\n",
              "    </tr>\n",
              "    <tr>\n",
              "      <th>5</th>\n",
              "      <td>My 13 year old son loved these shoes excellent...</td>\n",
              "      <td>5</td>\n",
              "      <td>1</td>\n",
              "    </tr>\n",
              "  </tbody>\n",
              "</table>\n",
              "</div>\n",
              "      <button class=\"colab-df-convert\" onclick=\"convertToInteractive('df-68c92bcf-0b45-4feb-8a4b-8a8e00b98ec2')\"\n",
              "              title=\"Convert this dataframe to an interactive table.\"\n",
              "              style=\"display:none;\">\n",
              "        \n",
              "  <svg xmlns=\"http://www.w3.org/2000/svg\" height=\"24px\"viewBox=\"0 0 24 24\"\n",
              "       width=\"24px\">\n",
              "    <path d=\"M0 0h24v24H0V0z\" fill=\"none\"/>\n",
              "    <path d=\"M18.56 5.44l.94 2.06.94-2.06 2.06-.94-2.06-.94-.94-2.06-.94 2.06-2.06.94zm-11 1L8.5 8.5l.94-2.06 2.06-.94-2.06-.94L8.5 2.5l-.94 2.06-2.06.94zm10 10l.94 2.06.94-2.06 2.06-.94-2.06-.94-.94-2.06-.94 2.06-2.06.94z\"/><path d=\"M17.41 7.96l-1.37-1.37c-.4-.4-.92-.59-1.43-.59-.52 0-1.04.2-1.43.59L10.3 9.45l-7.72 7.72c-.78.78-.78 2.05 0 2.83L4 21.41c.39.39.9.59 1.41.59.51 0 1.02-.2 1.41-.59l7.78-7.78 2.81-2.81c.8-.78.8-2.07 0-2.86zM5.41 20L4 18.59l7.72-7.72 1.47 1.35L5.41 20z\"/>\n",
              "  </svg>\n",
              "      </button>\n",
              "      \n",
              "  <style>\n",
              "    .colab-df-container {\n",
              "      display:flex;\n",
              "      flex-wrap:wrap;\n",
              "      gap: 12px;\n",
              "    }\n",
              "\n",
              "    .colab-df-convert {\n",
              "      background-color: #E8F0FE;\n",
              "      border: none;\n",
              "      border-radius: 50%;\n",
              "      cursor: pointer;\n",
              "      display: none;\n",
              "      fill: #1967D2;\n",
              "      height: 32px;\n",
              "      padding: 0 0 0 0;\n",
              "      width: 32px;\n",
              "    }\n",
              "\n",
              "    .colab-df-convert:hover {\n",
              "      background-color: #E2EBFA;\n",
              "      box-shadow: 0px 1px 2px rgba(60, 64, 67, 0.3), 0px 1px 3px 1px rgba(60, 64, 67, 0.15);\n",
              "      fill: #174EA6;\n",
              "    }\n",
              "\n",
              "    [theme=dark] .colab-df-convert {\n",
              "      background-color: #3B4455;\n",
              "      fill: #D2E3FC;\n",
              "    }\n",
              "\n",
              "    [theme=dark] .colab-df-convert:hover {\n",
              "      background-color: #434B5C;\n",
              "      box-shadow: 0px 1px 3px 1px rgba(0, 0, 0, 0.15);\n",
              "      filter: drop-shadow(0px 1px 2px rgba(0, 0, 0, 0.3));\n",
              "      fill: #FFFFFF;\n",
              "    }\n",
              "  </style>\n",
              "\n",
              "      <script>\n",
              "        const buttonEl =\n",
              "          document.querySelector('#df-68c92bcf-0b45-4feb-8a4b-8a8e00b98ec2 button.colab-df-convert');\n",
              "        buttonEl.style.display =\n",
              "          google.colab.kernel.accessAllowed ? 'block' : 'none';\n",
              "\n",
              "        async function convertToInteractive(key) {\n",
              "          const element = document.querySelector('#df-68c92bcf-0b45-4feb-8a4b-8a8e00b98ec2');\n",
              "          const dataTable =\n",
              "            await google.colab.kernel.invokeFunction('convertToInteractive',\n",
              "                                                     [key], {});\n",
              "          if (!dataTable) return;\n",
              "\n",
              "          const docLinkHtml = 'Like what you see? Visit the ' +\n",
              "            '<a target=\"_blank\" href=https://colab.research.google.com/notebooks/data_table.ipynb>data table notebook</a>'\n",
              "            + ' to learn more about interactive tables.';\n",
              "          element.innerHTML = '';\n",
              "          dataTable['output_type'] = 'display_data';\n",
              "          await google.colab.output.renderOutput(dataTable, element);\n",
              "          const docLink = document.createElement('div');\n",
              "          docLink.innerHTML = docLinkHtml;\n",
              "          element.appendChild(docLink);\n",
              "        }\n",
              "      </script>\n",
              "    </div>\n",
              "  </div>\n",
              "  "
            ]
          },
          "metadata": {},
          "execution_count": 71
        }
      ],
      "source": [
        "pos_df.head()"
      ]
    },
    {
      "cell_type": "code",
      "execution_count": null,
      "metadata": {
        "_uuid": "4e194a611c91fa997d1cd62ccc77d2f7a7ce41bc",
        "id": "w_-UD-EfDMST",
        "outputId": "c56748c4-7a6e-4d28-b0c8-463e0e2561c8",
        "colab": {
          "base_uri": "https://localhost:8080/",
          "height": 206
        }
      },
      "outputs": [
        {
          "output_type": "execute_result",
          "data": {
            "text/plain": [
              "                                          review_body  star_rating  sentiment\n",
              "0   Do not buy: really didn't start to wear them u...            1          0\n",
              "14                                        It's okay .            2          0\n",
              "19  Tissue paper is this thicker than this.  It ri...            1          0\n",
              "30  This pair of Sketchers is now the second pair ...            2          0\n",
              "33          Not what I expected would not order again            1          0"
            ],
            "text/html": [
              "\n",
              "  <div id=\"df-94f0ac28-3694-41fe-9d36-c363ab642da4\">\n",
              "    <div class=\"colab-df-container\">\n",
              "      <div>\n",
              "<style scoped>\n",
              "    .dataframe tbody tr th:only-of-type {\n",
              "        vertical-align: middle;\n",
              "    }\n",
              "\n",
              "    .dataframe tbody tr th {\n",
              "        vertical-align: top;\n",
              "    }\n",
              "\n",
              "    .dataframe thead th {\n",
              "        text-align: right;\n",
              "    }\n",
              "</style>\n",
              "<table border=\"1\" class=\"dataframe\">\n",
              "  <thead>\n",
              "    <tr style=\"text-align: right;\">\n",
              "      <th></th>\n",
              "      <th>review_body</th>\n",
              "      <th>star_rating</th>\n",
              "      <th>sentiment</th>\n",
              "    </tr>\n",
              "  </thead>\n",
              "  <tbody>\n",
              "    <tr>\n",
              "      <th>0</th>\n",
              "      <td>Do not buy: really didn't start to wear them u...</td>\n",
              "      <td>1</td>\n",
              "      <td>0</td>\n",
              "    </tr>\n",
              "    <tr>\n",
              "      <th>14</th>\n",
              "      <td>It's okay .</td>\n",
              "      <td>2</td>\n",
              "      <td>0</td>\n",
              "    </tr>\n",
              "    <tr>\n",
              "      <th>19</th>\n",
              "      <td>Tissue paper is this thicker than this.  It ri...</td>\n",
              "      <td>1</td>\n",
              "      <td>0</td>\n",
              "    </tr>\n",
              "    <tr>\n",
              "      <th>30</th>\n",
              "      <td>This pair of Sketchers is now the second pair ...</td>\n",
              "      <td>2</td>\n",
              "      <td>0</td>\n",
              "    </tr>\n",
              "    <tr>\n",
              "      <th>33</th>\n",
              "      <td>Not what I expected would not order again</td>\n",
              "      <td>1</td>\n",
              "      <td>0</td>\n",
              "    </tr>\n",
              "  </tbody>\n",
              "</table>\n",
              "</div>\n",
              "      <button class=\"colab-df-convert\" onclick=\"convertToInteractive('df-94f0ac28-3694-41fe-9d36-c363ab642da4')\"\n",
              "              title=\"Convert this dataframe to an interactive table.\"\n",
              "              style=\"display:none;\">\n",
              "        \n",
              "  <svg xmlns=\"http://www.w3.org/2000/svg\" height=\"24px\"viewBox=\"0 0 24 24\"\n",
              "       width=\"24px\">\n",
              "    <path d=\"M0 0h24v24H0V0z\" fill=\"none\"/>\n",
              "    <path d=\"M18.56 5.44l.94 2.06.94-2.06 2.06-.94-2.06-.94-.94-2.06-.94 2.06-2.06.94zm-11 1L8.5 8.5l.94-2.06 2.06-.94-2.06-.94L8.5 2.5l-.94 2.06-2.06.94zm10 10l.94 2.06.94-2.06 2.06-.94-2.06-.94-.94-2.06-.94 2.06-2.06.94z\"/><path d=\"M17.41 7.96l-1.37-1.37c-.4-.4-.92-.59-1.43-.59-.52 0-1.04.2-1.43.59L10.3 9.45l-7.72 7.72c-.78.78-.78 2.05 0 2.83L4 21.41c.39.39.9.59 1.41.59.51 0 1.02-.2 1.41-.59l7.78-7.78 2.81-2.81c.8-.78.8-2.07 0-2.86zM5.41 20L4 18.59l7.72-7.72 1.47 1.35L5.41 20z\"/>\n",
              "  </svg>\n",
              "      </button>\n",
              "      \n",
              "  <style>\n",
              "    .colab-df-container {\n",
              "      display:flex;\n",
              "      flex-wrap:wrap;\n",
              "      gap: 12px;\n",
              "    }\n",
              "\n",
              "    .colab-df-convert {\n",
              "      background-color: #E8F0FE;\n",
              "      border: none;\n",
              "      border-radius: 50%;\n",
              "      cursor: pointer;\n",
              "      display: none;\n",
              "      fill: #1967D2;\n",
              "      height: 32px;\n",
              "      padding: 0 0 0 0;\n",
              "      width: 32px;\n",
              "    }\n",
              "\n",
              "    .colab-df-convert:hover {\n",
              "      background-color: #E2EBFA;\n",
              "      box-shadow: 0px 1px 2px rgba(60, 64, 67, 0.3), 0px 1px 3px 1px rgba(60, 64, 67, 0.15);\n",
              "      fill: #174EA6;\n",
              "    }\n",
              "\n",
              "    [theme=dark] .colab-df-convert {\n",
              "      background-color: #3B4455;\n",
              "      fill: #D2E3FC;\n",
              "    }\n",
              "\n",
              "    [theme=dark] .colab-df-convert:hover {\n",
              "      background-color: #434B5C;\n",
              "      box-shadow: 0px 1px 3px 1px rgba(0, 0, 0, 0.15);\n",
              "      filter: drop-shadow(0px 1px 2px rgba(0, 0, 0, 0.3));\n",
              "      fill: #FFFFFF;\n",
              "    }\n",
              "  </style>\n",
              "\n",
              "      <script>\n",
              "        const buttonEl =\n",
              "          document.querySelector('#df-94f0ac28-3694-41fe-9d36-c363ab642da4 button.colab-df-convert');\n",
              "        buttonEl.style.display =\n",
              "          google.colab.kernel.accessAllowed ? 'block' : 'none';\n",
              "\n",
              "        async function convertToInteractive(key) {\n",
              "          const element = document.querySelector('#df-94f0ac28-3694-41fe-9d36-c363ab642da4');\n",
              "          const dataTable =\n",
              "            await google.colab.kernel.invokeFunction('convertToInteractive',\n",
              "                                                     [key], {});\n",
              "          if (!dataTable) return;\n",
              "\n",
              "          const docLinkHtml = 'Like what you see? Visit the ' +\n",
              "            '<a target=\"_blank\" href=https://colab.research.google.com/notebooks/data_table.ipynb>data table notebook</a>'\n",
              "            + ' to learn more about interactive tables.';\n",
              "          element.innerHTML = '';\n",
              "          dataTable['output_type'] = 'display_data';\n",
              "          await google.colab.output.renderOutput(dataTable, element);\n",
              "          const docLink = document.createElement('div');\n",
              "          docLink.innerHTML = docLinkHtml;\n",
              "          element.appendChild(docLink);\n",
              "        }\n",
              "      </script>\n",
              "    </div>\n",
              "  </div>\n",
              "  "
            ]
          },
          "metadata": {},
          "execution_count": 72
        }
      ],
      "source": [
        "neg_df.head()"
      ]
    },
    {
      "cell_type": "markdown",
      "metadata": {
        "_uuid": "947fd99a414149bae561fc474e3899d795282744",
        "id": "6cdnp64Zvop1"
      },
      "source": [
        "#### We can now combine reviews of each sentiment and shuffle them so that their order doesn't make any sense."
      ]
    },
    {
      "cell_type": "code",
      "execution_count": null,
      "metadata": {
        "_uuid": "7c893aaa28c80717a51e7f3d7a36479cf6d63f06",
        "id": "LmLJwhFPEEDy"
      },
      "outputs": [],
      "source": [
        "#combining\n",
        "df=pd.concat([pos_df,neg_df],ignore_index=True)"
      ]
    },
    {
      "cell_type": "code",
      "execution_count": null,
      "metadata": {
        "_uuid": "f98ce122399a51e2c5279b4cde328139205c658f",
        "id": "hWFZKf3dERLU",
        "outputId": "c9a9abc5-3b47-4380-e528-79696d8ccf1b",
        "colab": {
          "base_uri": "https://localhost:8080/",
          "height": 224
        }
      },
      "outputs": [
        {
          "output_type": "stream",
          "name": "stdout",
          "text": [
            "(50000, 3)\n"
          ]
        },
        {
          "output_type": "execute_result",
          "data": {
            "text/plain": [
              "                                         review_body  star_rating  sentiment\n",
              "0      provides great cushion as well as archsupport            5          1\n",
              "1  It's perfect if you need something small for c...            4          1\n",
              "2                                 Getting what u see            5          1\n",
              "3                                              small            3          1\n",
              "4  My 13 year old son loved these shoes excellent...            5          1"
            ],
            "text/html": [
              "\n",
              "  <div id=\"df-1e70ea38-9753-42f9-88b8-b264786acf6d\">\n",
              "    <div class=\"colab-df-container\">\n",
              "      <div>\n",
              "<style scoped>\n",
              "    .dataframe tbody tr th:only-of-type {\n",
              "        vertical-align: middle;\n",
              "    }\n",
              "\n",
              "    .dataframe tbody tr th {\n",
              "        vertical-align: top;\n",
              "    }\n",
              "\n",
              "    .dataframe thead th {\n",
              "        text-align: right;\n",
              "    }\n",
              "</style>\n",
              "<table border=\"1\" class=\"dataframe\">\n",
              "  <thead>\n",
              "    <tr style=\"text-align: right;\">\n",
              "      <th></th>\n",
              "      <th>review_body</th>\n",
              "      <th>star_rating</th>\n",
              "      <th>sentiment</th>\n",
              "    </tr>\n",
              "  </thead>\n",
              "  <tbody>\n",
              "    <tr>\n",
              "      <th>0</th>\n",
              "      <td>provides great cushion as well as archsupport</td>\n",
              "      <td>5</td>\n",
              "      <td>1</td>\n",
              "    </tr>\n",
              "    <tr>\n",
              "      <th>1</th>\n",
              "      <td>It's perfect if you need something small for c...</td>\n",
              "      <td>4</td>\n",
              "      <td>1</td>\n",
              "    </tr>\n",
              "    <tr>\n",
              "      <th>2</th>\n",
              "      <td>Getting what u see</td>\n",
              "      <td>5</td>\n",
              "      <td>1</td>\n",
              "    </tr>\n",
              "    <tr>\n",
              "      <th>3</th>\n",
              "      <td>small</td>\n",
              "      <td>3</td>\n",
              "      <td>1</td>\n",
              "    </tr>\n",
              "    <tr>\n",
              "      <th>4</th>\n",
              "      <td>My 13 year old son loved these shoes excellent...</td>\n",
              "      <td>5</td>\n",
              "      <td>1</td>\n",
              "    </tr>\n",
              "  </tbody>\n",
              "</table>\n",
              "</div>\n",
              "      <button class=\"colab-df-convert\" onclick=\"convertToInteractive('df-1e70ea38-9753-42f9-88b8-b264786acf6d')\"\n",
              "              title=\"Convert this dataframe to an interactive table.\"\n",
              "              style=\"display:none;\">\n",
              "        \n",
              "  <svg xmlns=\"http://www.w3.org/2000/svg\" height=\"24px\"viewBox=\"0 0 24 24\"\n",
              "       width=\"24px\">\n",
              "    <path d=\"M0 0h24v24H0V0z\" fill=\"none\"/>\n",
              "    <path d=\"M18.56 5.44l.94 2.06.94-2.06 2.06-.94-2.06-.94-.94-2.06-.94 2.06-2.06.94zm-11 1L8.5 8.5l.94-2.06 2.06-.94-2.06-.94L8.5 2.5l-.94 2.06-2.06.94zm10 10l.94 2.06.94-2.06 2.06-.94-2.06-.94-.94-2.06-.94 2.06-2.06.94z\"/><path d=\"M17.41 7.96l-1.37-1.37c-.4-.4-.92-.59-1.43-.59-.52 0-1.04.2-1.43.59L10.3 9.45l-7.72 7.72c-.78.78-.78 2.05 0 2.83L4 21.41c.39.39.9.59 1.41.59.51 0 1.02-.2 1.41-.59l7.78-7.78 2.81-2.81c.8-.78.8-2.07 0-2.86zM5.41 20L4 18.59l7.72-7.72 1.47 1.35L5.41 20z\"/>\n",
              "  </svg>\n",
              "      </button>\n",
              "      \n",
              "  <style>\n",
              "    .colab-df-container {\n",
              "      display:flex;\n",
              "      flex-wrap:wrap;\n",
              "      gap: 12px;\n",
              "    }\n",
              "\n",
              "    .colab-df-convert {\n",
              "      background-color: #E8F0FE;\n",
              "      border: none;\n",
              "      border-radius: 50%;\n",
              "      cursor: pointer;\n",
              "      display: none;\n",
              "      fill: #1967D2;\n",
              "      height: 32px;\n",
              "      padding: 0 0 0 0;\n",
              "      width: 32px;\n",
              "    }\n",
              "\n",
              "    .colab-df-convert:hover {\n",
              "      background-color: #E2EBFA;\n",
              "      box-shadow: 0px 1px 2px rgba(60, 64, 67, 0.3), 0px 1px 3px 1px rgba(60, 64, 67, 0.15);\n",
              "      fill: #174EA6;\n",
              "    }\n",
              "\n",
              "    [theme=dark] .colab-df-convert {\n",
              "      background-color: #3B4455;\n",
              "      fill: #D2E3FC;\n",
              "    }\n",
              "\n",
              "    [theme=dark] .colab-df-convert:hover {\n",
              "      background-color: #434B5C;\n",
              "      box-shadow: 0px 1px 3px 1px rgba(0, 0, 0, 0.15);\n",
              "      filter: drop-shadow(0px 1px 2px rgba(0, 0, 0, 0.3));\n",
              "      fill: #FFFFFF;\n",
              "    }\n",
              "  </style>\n",
              "\n",
              "      <script>\n",
              "        const buttonEl =\n",
              "          document.querySelector('#df-1e70ea38-9753-42f9-88b8-b264786acf6d button.colab-df-convert');\n",
              "        buttonEl.style.display =\n",
              "          google.colab.kernel.accessAllowed ? 'block' : 'none';\n",
              "\n",
              "        async function convertToInteractive(key) {\n",
              "          const element = document.querySelector('#df-1e70ea38-9753-42f9-88b8-b264786acf6d');\n",
              "          const dataTable =\n",
              "            await google.colab.kernel.invokeFunction('convertToInteractive',\n",
              "                                                     [key], {});\n",
              "          if (!dataTable) return;\n",
              "\n",
              "          const docLinkHtml = 'Like what you see? Visit the ' +\n",
              "            '<a target=\"_blank\" href=https://colab.research.google.com/notebooks/data_table.ipynb>data table notebook</a>'\n",
              "            + ' to learn more about interactive tables.';\n",
              "          element.innerHTML = '';\n",
              "          dataTable['output_type'] = 'display_data';\n",
              "          await google.colab.output.renderOutput(dataTable, element);\n",
              "          const docLink = document.createElement('div');\n",
              "          docLink.innerHTML = docLinkHtml;\n",
              "          element.appendChild(docLink);\n",
              "        }\n",
              "      </script>\n",
              "    </div>\n",
              "  </div>\n",
              "  "
            ]
          },
          "metadata": {},
          "execution_count": 74
        }
      ],
      "source": [
        "print(df.shape)\n",
        "df.head()"
      ]
    },
    {
      "cell_type": "code",
      "execution_count": null,
      "metadata": {
        "_uuid": "46e946e4e593482f373a7ac97cda97b1310cc72a",
        "id": "ngCjsqeLHknP",
        "outputId": "36bcb9d9-fdf9-4d96-9792-0942045faacd",
        "colab": {
          "base_uri": "https://localhost:8080/",
          "height": 224
        }
      },
      "outputs": [
        {
          "output_type": "stream",
          "name": "stdout",
          "text": [
            "(50000, 3)\n"
          ]
        },
        {
          "output_type": "execute_result",
          "data": {
            "text/plain": [
              "                                         review_body  star_rating  sentiment\n",
              "0  I was not able to fit them in my shoes as the ...            1          0\n",
              "1                                    Comfy and light            5          1\n",
              "2      Perfect size with phone inside. Very stylish!            4          1\n",
              "3  Perfect fit and they are comfy enough to wear ...            5          1\n",
              "4  Very cute and stylish sneakers for a 2 year ol...            4          1"
            ],
            "text/html": [
              "\n",
              "  <div id=\"df-3612af54-37d2-4c3e-84d0-2f1456ead516\">\n",
              "    <div class=\"colab-df-container\">\n",
              "      <div>\n",
              "<style scoped>\n",
              "    .dataframe tbody tr th:only-of-type {\n",
              "        vertical-align: middle;\n",
              "    }\n",
              "\n",
              "    .dataframe tbody tr th {\n",
              "        vertical-align: top;\n",
              "    }\n",
              "\n",
              "    .dataframe thead th {\n",
              "        text-align: right;\n",
              "    }\n",
              "</style>\n",
              "<table border=\"1\" class=\"dataframe\">\n",
              "  <thead>\n",
              "    <tr style=\"text-align: right;\">\n",
              "      <th></th>\n",
              "      <th>review_body</th>\n",
              "      <th>star_rating</th>\n",
              "      <th>sentiment</th>\n",
              "    </tr>\n",
              "  </thead>\n",
              "  <tbody>\n",
              "    <tr>\n",
              "      <th>0</th>\n",
              "      <td>I was not able to fit them in my shoes as the ...</td>\n",
              "      <td>1</td>\n",
              "      <td>0</td>\n",
              "    </tr>\n",
              "    <tr>\n",
              "      <th>1</th>\n",
              "      <td>Comfy and light</td>\n",
              "      <td>5</td>\n",
              "      <td>1</td>\n",
              "    </tr>\n",
              "    <tr>\n",
              "      <th>2</th>\n",
              "      <td>Perfect size with phone inside. Very stylish!</td>\n",
              "      <td>4</td>\n",
              "      <td>1</td>\n",
              "    </tr>\n",
              "    <tr>\n",
              "      <th>3</th>\n",
              "      <td>Perfect fit and they are comfy enough to wear ...</td>\n",
              "      <td>5</td>\n",
              "      <td>1</td>\n",
              "    </tr>\n",
              "    <tr>\n",
              "      <th>4</th>\n",
              "      <td>Very cute and stylish sneakers for a 2 year ol...</td>\n",
              "      <td>4</td>\n",
              "      <td>1</td>\n",
              "    </tr>\n",
              "  </tbody>\n",
              "</table>\n",
              "</div>\n",
              "      <button class=\"colab-df-convert\" onclick=\"convertToInteractive('df-3612af54-37d2-4c3e-84d0-2f1456ead516')\"\n",
              "              title=\"Convert this dataframe to an interactive table.\"\n",
              "              style=\"display:none;\">\n",
              "        \n",
              "  <svg xmlns=\"http://www.w3.org/2000/svg\" height=\"24px\"viewBox=\"0 0 24 24\"\n",
              "       width=\"24px\">\n",
              "    <path d=\"M0 0h24v24H0V0z\" fill=\"none\"/>\n",
              "    <path d=\"M18.56 5.44l.94 2.06.94-2.06 2.06-.94-2.06-.94-.94-2.06-.94 2.06-2.06.94zm-11 1L8.5 8.5l.94-2.06 2.06-.94-2.06-.94L8.5 2.5l-.94 2.06-2.06.94zm10 10l.94 2.06.94-2.06 2.06-.94-2.06-.94-.94-2.06-.94 2.06-2.06.94z\"/><path d=\"M17.41 7.96l-1.37-1.37c-.4-.4-.92-.59-1.43-.59-.52 0-1.04.2-1.43.59L10.3 9.45l-7.72 7.72c-.78.78-.78 2.05 0 2.83L4 21.41c.39.39.9.59 1.41.59.51 0 1.02-.2 1.41-.59l7.78-7.78 2.81-2.81c.8-.78.8-2.07 0-2.86zM5.41 20L4 18.59l7.72-7.72 1.47 1.35L5.41 20z\"/>\n",
              "  </svg>\n",
              "      </button>\n",
              "      \n",
              "  <style>\n",
              "    .colab-df-container {\n",
              "      display:flex;\n",
              "      flex-wrap:wrap;\n",
              "      gap: 12px;\n",
              "    }\n",
              "\n",
              "    .colab-df-convert {\n",
              "      background-color: #E8F0FE;\n",
              "      border: none;\n",
              "      border-radius: 50%;\n",
              "      cursor: pointer;\n",
              "      display: none;\n",
              "      fill: #1967D2;\n",
              "      height: 32px;\n",
              "      padding: 0 0 0 0;\n",
              "      width: 32px;\n",
              "    }\n",
              "\n",
              "    .colab-df-convert:hover {\n",
              "      background-color: #E2EBFA;\n",
              "      box-shadow: 0px 1px 2px rgba(60, 64, 67, 0.3), 0px 1px 3px 1px rgba(60, 64, 67, 0.15);\n",
              "      fill: #174EA6;\n",
              "    }\n",
              "\n",
              "    [theme=dark] .colab-df-convert {\n",
              "      background-color: #3B4455;\n",
              "      fill: #D2E3FC;\n",
              "    }\n",
              "\n",
              "    [theme=dark] .colab-df-convert:hover {\n",
              "      background-color: #434B5C;\n",
              "      box-shadow: 0px 1px 3px 1px rgba(0, 0, 0, 0.15);\n",
              "      filter: drop-shadow(0px 1px 2px rgba(0, 0, 0, 0.3));\n",
              "      fill: #FFFFFF;\n",
              "    }\n",
              "  </style>\n",
              "\n",
              "      <script>\n",
              "        const buttonEl =\n",
              "          document.querySelector('#df-3612af54-37d2-4c3e-84d0-2f1456ead516 button.colab-df-convert');\n",
              "        buttonEl.style.display =\n",
              "          google.colab.kernel.accessAllowed ? 'block' : 'none';\n",
              "\n",
              "        async function convertToInteractive(key) {\n",
              "          const element = document.querySelector('#df-3612af54-37d2-4c3e-84d0-2f1456ead516');\n",
              "          const dataTable =\n",
              "            await google.colab.kernel.invokeFunction('convertToInteractive',\n",
              "                                                     [key], {});\n",
              "          if (!dataTable) return;\n",
              "\n",
              "          const docLinkHtml = 'Like what you see? Visit the ' +\n",
              "            '<a target=\"_blank\" href=https://colab.research.google.com/notebooks/data_table.ipynb>data table notebook</a>'\n",
              "            + ' to learn more about interactive tables.';\n",
              "          element.innerHTML = '';\n",
              "          dataTable['output_type'] = 'display_data';\n",
              "          await google.colab.output.renderOutput(dataTable, element);\n",
              "          const docLink = document.createElement('div');\n",
              "          docLink.innerHTML = docLinkHtml;\n",
              "          element.appendChild(docLink);\n",
              "        }\n",
              "      </script>\n",
              "    </div>\n",
              "  </div>\n",
              "  "
            ]
          },
          "metadata": {},
          "execution_count": 75
        }
      ],
      "source": [
        "# shuffling rows\n",
        "df = df.sample(frac=1).reset_index(drop=True)\n",
        "print(df.shape)  # perfectly fine.\n",
        "df.head()\n"
      ]
    },
    {
      "cell_type": "code",
      "execution_count": null,
      "metadata": {
        "_uuid": "4fc11a15616e2bee4045ee409e3b4d728eff0849",
        "id": "T71dY3favop1"
      },
      "outputs": [],
      "source": [
        ""
      ]
    },
    {
      "cell_type": "markdown",
      "metadata": {
        "_uuid": "2eb88a2676d7cc8c49bdcbf1b48c2c649bde10d2",
        "id": "TCFFcmQGvauc"
      },
      "source": [
        "### CREATING GOOGLE WORD2VEC WORD EMBEDDINGS IN GENSIM"
      ]
    },
    {
      "cell_type": "markdown",
      "metadata": {
        "_uuid": "2a5f6b6093e1a0179a21424efcc522269551b650",
        "id": "ZmRTjmNkvop1"
      },
      "source": [
        "Word embeddings of the sample are generated using Gensim. "
      ]
    },
    {
      "cell_type": "markdown",
      "metadata": {
        "_uuid": "d002231f453318a3f418a24ec2b532d063ad5bc4",
        "id": "i4RbhljSnAVq"
      },
      "source": [
        "####  Word2Vec in Gensim. \n",
        "This process involves tokenizing the words and then converting each word into a vector as follows."
      ]
    },
    {
      "cell_type": "code",
      "execution_count": null,
      "metadata": {
        "_uuid": "92fccc63bd1a69dba8e5729a929402c44efd2b76",
        "id": "eDa2gp9zorg2",
        "outputId": "dfd3565b-17fe-4926-ee94-a157fd5e36f8",
        "colab": {
          "base_uri": "https://localhost:8080/"
        }
      },
      "outputs": [
        {
          "output_type": "stream",
          "name": "stderr",
          "text": [
            "[nltk_data] Downloading package stopwords to /root/nltk_data...\n",
            "[nltk_data]   Package stopwords is already up-to-date!\n",
            "[nltk_data] Downloading package wordnet to /root/nltk_data...\n",
            "[nltk_data]   Package wordnet is already up-to-date!\n",
            "[nltk_data] Downloading package averaged_perceptron_tagger to\n",
            "[nltk_data]     /root/nltk_data...\n",
            "[nltk_data]   Package averaged_perceptron_tagger is already up-to-\n",
            "[nltk_data]       date!\n",
            "[nltk_data] Downloading package omw-1.4 to /root/nltk_data...\n",
            "[nltk_data]   Package omw-1.4 is already up-to-date!\n"
          ]
        },
        {
          "output_type": "stream",
          "name": "stdout",
          "text": [
            "134802\n",
            "134802\n"
          ]
        }
      ],
      "source": [
        "\n",
        "#!pip install nltk\n",
        "#nltk.download('punkt')\n",
        "import nltk\n",
        "nltk.download('stopwords')\n",
        "nltk.download('wordnet')\n",
        "nltk.download('averaged_perceptron_tagger')\n",
        "nltk.download('omw-1.4')\n",
        "\n",
        "\n",
        "tokenizer = nltk.data.load('tokenizers/punkt/english.pickle')\n",
        "sentences=[]\n",
        "sum=0\n",
        "for review_body in df['review_body']:\n",
        "  sents=tokenizer.tokenize(review_body.strip())\n",
        "  sum+=len(sents)\n",
        "  for sent in sents:\n",
        "    cleaned_sent= clean_reviews(sent)\n",
        "    sentences.append(cleaned_sent.split()) # can use word_tokenize also.\n",
        "print(sum)\n",
        "print(len(sentences))  # total no of sentences"
      ]
    },
    {
      "cell_type": "markdown",
      "metadata": {
        "_uuid": "3e42c58b98aeac961923735a17cf0cd5e9400130",
        "id": "cVRovM89vop2"
      },
      "source": [
        "#### Top 5 of the reviews after the tokenization"
      ]
    },
    {
      "cell_type": "code",
      "execution_count": null,
      "metadata": {
        "_uuid": "9818e2ccefffde2fb5f409a13b87e44b7c14b5ca",
        "id": "HzJzXDeGqTTR",
        "outputId": "82faf7bf-e05d-4380-8722-b9a898b064ed",
        "colab": {
          "base_uri": "https://localhost:8080/"
        }
      },
      "outputs": [
        {
          "output_type": "stream",
          "name": "stdout",
          "text": [
            "['able', 'fit', 'shoe', 'heel', 'part', 'wide'] \n",
            "\n",
            "['comfy', 'light'] \n",
            "\n",
            "['perfect', 'size', 'phone', 'inside'] \n",
            "\n",
            "['stylish'] \n",
            "\n",
            "['perfect', 'fit', 'comfy', 'enough', 'wear', 'day'] \n",
            "\n"
          ]
        }
      ],
      "source": [
        "# trying to print few sentences\n",
        "for te in sentences[:5]:\n",
        "  print(te,\"\\n\")"
      ]
    },
    {
      "cell_type": "markdown",
      "metadata": {
        "_uuid": "77edb6b38a7da2587bd57cfaf3dd28d8c7dcbf2e",
        "id": "waFETYMMvop2"
      },
      "source": [
        "####Creation of the word 2 vector embeddings."
      ]
    },
    {
      "cell_type": "code",
      "execution_count": null,
      "metadata": {
        "_uuid": "1a3b204a1219c074721fff30b1d3912f633eab74",
        "id": "bbUhUFHCsTx_"
      },
      "outputs": [],
      "source": [
        "import gensim\n",
        "w2v_model=gensim.models.Word2Vec(sentences=sentences,size=100,window=10,min_count=1)"
      ]
    },
    {
      "cell_type": "markdown",
      "metadata": {
        "_uuid": "f2a08433d75209a955eac4dc9fb7d974a6072716",
        "id": "gNNiPSwqvop3"
      },
      "source": [
        "#### Parameters: -\n",
        "\n",
        "sentences :  The sentences we have obtained.\n",
        "\n",
        "size : The dimesnions of the vector used to represent each word.\n",
        "\n",
        "window : The number f words around any word to see the context.\n",
        "\n",
        "min_count : The minimum number of times a word should appear for its embedding to be formed or learnt.\n"
      ]
    },
    {
      "cell_type": "code",
      "execution_count": null,
      "metadata": {
        "_uuid": "5f04a542e992d3e5bbd4fffd5bd6090b353a4036",
        "id": "YdpRIli7tfzu",
        "outputId": "5e15329a-d2ca-4f01-d9eb-cd28614c154a",
        "colab": {
          "base_uri": "https://localhost:8080/"
        }
      },
      "outputs": [
        {
          "output_type": "execute_result",
          "data": {
            "text/plain": [
              "(6102144, 7360400)"
            ]
          },
          "metadata": {},
          "execution_count": 79
        }
      ],
      "source": [
        "w2v_model.train(sentences,epochs=10,total_examples=len(sentences))"
      ]
    },
    {
      "cell_type": "code",
      "execution_count": null,
      "metadata": {
        "_uuid": "8ad6baab82cbba74094017af9e30e138fa278fe7",
        "id": "9FU9z2LTuBDP",
        "outputId": "e551fd99-efdd-45a0-f5d9-033414e7ea2e",
        "colab": {
          "base_uri": "https://localhost:8080/"
        }
      },
      "outputs": [
        {
          "output_type": "execute_result",
          "data": {
            "text/plain": [
              "array([ 0.07367925,  0.7264668 ,  2.5144527 ,  3.411206  , -0.57569915,\n",
              "       -0.34555066, -0.2521098 ,  0.52374077,  0.68020594, -1.1104329 ,\n",
              "        0.16678157,  0.1622212 , -0.94836414,  0.26322594, -0.5710929 ,\n",
              "       -1.1914994 ,  0.6835419 , -0.3816949 , -0.7597397 , -1.4954362 ,\n",
              "        1.6410891 , -1.9118441 , -0.57412183, -0.32931828, -1.2157779 ,\n",
              "        0.83956826,  0.53381723,  1.4196945 ,  2.0628216 ,  0.25225857,\n",
              "       -0.9118603 ,  0.17952287,  0.1686097 ,  1.2065403 , -0.42273128,\n",
              "        0.90328974, -0.03724175, -0.45577332,  1.1973754 , -0.5416251 ,\n",
              "        0.60922384,  1.7128277 , -0.9014182 , -0.90069443,  0.13453196,\n",
              "       -0.40893528, -0.79901254, -0.310973  ,  2.2714424 , -0.8470457 ,\n",
              "        0.65688616, -0.11749965, -2.1804264 ,  0.15849583,  0.10332197,\n",
              "       -2.246705  , -1.0243639 ,  1.6441951 ,  0.2823556 , -0.38164017,\n",
              "       -0.5126825 , -0.2880718 ,  0.65396625,  1.4210078 ,  0.42719245,\n",
              "        0.12415409, -0.11529443, -1.0243325 , -2.609697  , -0.94849235,\n",
              "       -0.09209519, -0.544317  ,  0.2809512 , -0.40628862, -0.2124519 ,\n",
              "       -0.9962219 ,  1.042079  ,  0.02195606,  0.27191758,  1.1521046 ,\n",
              "        2.0702586 ,  1.1487211 , -0.24125645, -0.2817052 ,  0.05967935,\n",
              "        0.58263344,  0.603023  ,  0.89386755,  0.5174772 ,  1.5066389 ,\n",
              "       -0.9075672 , -0.9002992 , -1.6745728 , -1.1212786 , -2.15576   ,\n",
              "       -0.08255216, -0.03836102, -0.31134218,  1.6629958 ,  0.8347507 ],\n",
              "      dtype=float32)"
            ]
          },
          "metadata": {},
          "execution_count": 80
        }
      ],
      "source": [
        "# embedding of a particular word.\n",
        "w2v_model.wv.get_vector('like')"
      ]
    },
    {
      "cell_type": "code",
      "execution_count": null,
      "metadata": {
        "_uuid": "0050556ac2df4bba102776191ac0b348a1ef9bde",
        "id": "LuiNWZrHuOx8",
        "outputId": "3323393c-181d-4d10-f92b-17fe6529765a",
        "colab": {
          "base_uri": "https://localhost:8080/"
        }
      },
      "outputs": [
        {
          "output_type": "stream",
          "name": "stdout",
          "text": [
            "The total number of words are :  17642\n"
          ]
        }
      ],
      "source": [
        "# total numberof extracted words.\n",
        "vocab=w2v_model.wv.vocab\n",
        "print(\"The total number of words are : \",len(vocab))"
      ]
    },
    {
      "cell_type": "code",
      "execution_count": null,
      "metadata": {
        "_uuid": "51ddd393a5cf45056dc8321c85f1ba055d0c1db4",
        "id": "VIfgI10IuakQ",
        "outputId": "d628a4cf-79bf-4769-d803-0a3ba8e7b877",
        "colab": {
          "base_uri": "https://localhost:8080/"
        }
      },
      "outputs": [
        {
          "output_type": "execute_result",
          "data": {
            "text/plain": [
              "[('good', 0.8103077411651611),\n",
              " ('fantastic', 0.726043701171875),\n",
              " ('amazing', 0.7166142463684082),\n",
              " ('excellent', 0.7101442813873291),\n",
              " ('awesome', 0.6996778845787048),\n",
              " ('nice', 0.6668009757995605),\n",
              " ('wonderful', 0.6541703939437866),\n",
              " ('perfect', 0.5843102931976318),\n",
              " ('decent', 0.5571184158325195),\n",
              " ('fabulous', 0.5174053907394409)]"
            ]
          },
          "metadata": {},
          "execution_count": 82
        }
      ],
      "source": [
        "# words most similar to a given word.\n",
        "w2v_model.wv.most_similar('great')"
      ]
    },
    {
      "cell_type": "code",
      "execution_count": null,
      "metadata": {
        "_uuid": "6296cb60a4d4ba8c750bd1de89017122604c38c0",
        "id": "3-IiBwrwvb1g",
        "outputId": "860e254e-ae53-43b6-a1a7-302537dbd56c",
        "colab": {
          "base_uri": "https://localhost:8080/"
        }
      },
      "outputs": [
        {
          "output_type": "execute_result",
          "data": {
            "text/plain": [
              "0.4165073"
            ]
          },
          "metadata": {},
          "execution_count": 83
        }
      ],
      "source": [
        "# similaraity b/w two words\n",
        "w2v_model.wv.similarity('good','like')"
      ]
    },
    {
      "cell_type": "markdown",
      "metadata": {
        "_uuid": "f83b2a84605e54ae86f90ea86150b8891eb0271a",
        "id": "KSDerJ9Nv3j7"
      },
      "source": [
        "#### Now creating a dictionary with words in vocab and their embeddings. This will be used when we will be creating embedding matrix (for feeding to keras embedding layer)."
      ]
    },
    {
      "cell_type": "code",
      "execution_count": null,
      "metadata": {
        "_uuid": "46027121588e43cc98f6e925fc3eedaa561d2802",
        "id": "xjTUnAL4zcmW",
        "outputId": "9fb52c71-17d5-4ff7-b1fc-f8b39b9fd88c",
        "colab": {
          "base_uri": "https://localhost:8080/"
        }
      },
      "outputs": [
        {
          "output_type": "stream",
          "name": "stdout",
          "text": [
            "The no of words : 17642\n"
          ]
        }
      ],
      "source": [
        "print(\"The no of words :\",len(vocab))\n",
        "# print(vocab)"
      ]
    },
    {
      "cell_type": "code",
      "execution_count": null,
      "metadata": {
        "_uuid": "f1dd13a7bb306dd0002a5b51486515220d163c5e",
        "id": "RKjJClxezPSf"
      },
      "outputs": [],
      "source": [
        "# print(vocab)\n",
        "vocab=list(vocab.keys())"
      ]
    },
    {
      "cell_type": "code",
      "execution_count": null,
      "metadata": {
        "_uuid": "1f09f5f21f612ef5a3b59747218e6c0ccb0ad415",
        "id": "rcqASqyLwNDk",
        "outputId": "ed14cbc6-54aa-410b-aec8-4eafc2fcdd10",
        "colab": {
          "base_uri": "https://localhost:8080/"
        }
      },
      "outputs": [
        {
          "output_type": "stream",
          "name": "stdout",
          "text": [
            "The no of key-value pairs :  17642\n"
          ]
        }
      ],
      "source": [
        "word_vec_dict={}\n",
        "for word in vocab:\n",
        "  word_vec_dict[word]=w2v_model.wv.get_vector(word)\n",
        "print(\"The no of key-value pairs : \",len(word_vec_dict)) # should come equal to vocab size\n",
        "  "
      ]
    },
    {
      "cell_type": "code",
      "execution_count": null,
      "metadata": {
        "_uuid": "325ae1b4b37dc7003ddc7e8a1aad7920dfbd5b75",
        "id": "Gm3rrnKZxgY9",
        "colab": {
          "base_uri": "https://localhost:8080/"
        },
        "outputId": "0dcf30d2-da18-4ac5-a591-70b2b21de42e"
      },
      "outputs": [
        {
          "output_type": "stream",
          "name": "stdout",
          "text": [
            "[ 1.8681308  -1.5907913   0.7092128  -2.0597997   0.17542903  2.6452513\n",
            " -0.13219646  0.38573468  1.5134158  -0.5503074   0.90431553  1.6712047\n",
            " -1.0414796   1.8485112  -0.1069838   0.19475853  0.92763615 -1.7791939\n",
            "  1.5459243   0.7807732  -1.0991529   0.19378278  1.2601229   0.60766494\n",
            "  0.9202211   0.87655133  2.020083    0.5514928   0.12454478  1.6737947\n",
            "  1.3164634  -0.33275178  0.7862966  -0.39058927  0.9576454   0.3757094\n",
            " -0.30306423 -2.220082    0.06182353 -0.49734315  0.01309261  1.0931726\n",
            " -0.17895778 -1.0237908   1.5208414   1.7499568   0.6011901  -1.3033823\n",
            "  0.29578832  0.36418635  2.679266   -1.840971    0.86608136 -1.9595351\n",
            "  0.6005827  -0.9309796  -0.4863807   0.39657393 -0.64415056  0.9428907\n",
            " -0.00879765  0.39329818 -1.2173469   0.92669064  0.1219023  -0.55398625\n",
            "  0.5210502  -1.4682353   0.57874274  1.2332221  -0.7556639  -1.6617166\n",
            "  0.3195188   0.17394839 -0.53246033  1.7535421  -0.81922716  1.32934\n",
            "  2.6050766   0.21209076 -0.41728774  1.5244435   1.5414956  -0.00869481\n",
            " -0.33909905 -1.589683   -0.79927224 -0.21832992 -0.12184142  0.26677996\n",
            " -0.8225951  -1.6783642   1.4039702   1.0689318   0.93111455 -0.6216784\n",
            " -0.7894465   0.08446001  0.68003154  1.3393248 ]\n",
            "[-1.05293235e-02  6.47422016e-01  8.75542402e-01  2.42239162e-01\n",
            " -4.71300334e-01  5.45057476e-01  7.95192420e-01 -7.17293203e-01\n",
            "  2.62473750e+00 -2.03965330e+00  1.52462184e-01  1.95890510e+00\n",
            "  5.43081105e-01 -1.92987168e+00 -7.76185870e-01  4.30355835e+00\n",
            "  7.53587663e-01 -1.51088631e+00 -2.90364623e+00 -1.40658450e+00\n",
            " -8.75864089e-01 -1.03532410e+00 -6.25513215e-03  1.16874278e+00\n",
            "  6.69550776e-01  1.60212308e-01  1.40802789e+00 -3.06037903e-01\n",
            " -1.08097672e-01 -1.04967701e+00  1.15706098e+00 -1.79823291e+00\n",
            " -6.13363147e-01  9.41115711e-03  1.27572984e-01 -3.99948567e-01\n",
            " -1.61851913e-01  1.78557506e-03 -1.65781772e+00  1.49605322e+00\n",
            "  1.32680821e+00  6.36710525e-01  7.35113621e-01 -1.09915160e-01\n",
            " -8.94360304e-01  8.86011243e-01 -1.77685690e+00 -1.19888842e+00\n",
            "  1.52734116e-01 -1.65802259e-02  1.37539005e+00  5.72919905e-01\n",
            "  1.03483796e+00 -1.38461983e+00 -1.02393901e+00 -7.72000030e-02\n",
            " -4.84434515e-01 -7.56144226e-01  1.48892140e+00  7.30333030e-01\n",
            " -6.13761723e-01 -1.45984972e+00 -7.38429725e-01  1.71710801e+00\n",
            " -5.09865522e-01 -1.06275558e+00 -3.40466738e-01 -6.94296479e-01\n",
            " -1.00487196e+00 -7.06345662e-02 -2.02099815e-01  1.21921790e+00\n",
            " -4.86463368e-01 -1.12037611e+00 -1.52148485e+00  5.56517243e-01\n",
            " -1.46206200e+00 -3.57227802e-01 -9.67335045e-01  4.40932393e-01\n",
            "  6.60281777e-01 -6.86872005e-01 -1.08707082e+00  6.50625676e-02\n",
            " -1.50128484e-01 -1.35031879e+00 -3.80922496e-01  9.38142166e-02\n",
            " -3.23878378e-01 -1.36591673e+00  1.32623661e+00 -1.16319907e+00\n",
            "  7.87825346e-01 -9.32068706e-01 -1.11094999e+00 -6.67723119e-01\n",
            " -4.04732913e-01  3.19584280e-01  1.50924134e+00  8.92803490e-01]\n",
            "[-1.9712914   0.41705582 -0.62221026 -0.31088188 -1.125409    0.38599798\n",
            "  0.32074568  0.7530946   1.2090452   0.67746043  1.7469165   0.5617097\n",
            " -0.6926159   0.22188163  0.51952493  1.187914   -0.31093207  0.0063935\n",
            " -1.2766384   0.07089815  0.26253867 -1.29976    -0.7744681   1.1518215\n",
            "  0.358301    0.57668144 -0.13184832  0.1447966  -1.0431715  -0.50773716\n",
            "  0.26288888  0.06937131  0.51614773  0.7377256   0.56243616  0.85225666\n",
            "  0.8741839  -0.21885319 -0.5718725   0.1722172   0.30097833  0.400479\n",
            " -0.4228089  -1.2562107  -0.07781687  0.29855743  0.9473431  -0.33618248\n",
            "  0.5897818  -0.7373238  -0.2564524  -0.4965067   0.5698125  -0.45326355\n",
            " -1.505073    0.40544268  1.5534693   0.45010138 -0.9767676   1.2634678\n",
            "  0.47422963  0.9439967  -1.3042774  -0.2920399   1.3133615   1.3848414\n",
            "  0.12485817 -0.98274094 -0.51051545  0.70910776  0.06337395  0.1393607\n",
            " -1.118253    1.5517802  -0.75262654 -0.9691234   0.09672936  1.0035685\n",
            "  1.0909119  -0.61951566  0.7583164  -0.06746131 -0.38955972 -0.5269641\n",
            "  0.44408438 -0.21318573  1.7711285   0.01043062  0.3329854   0.37837613\n",
            " -2.9141338  -2.4008322  -0.35741425  1.1183546  -0.228806   -0.04157626\n",
            " -0.8136746   0.29673824 -0.23291627  0.10454974]\n",
            "[-1.662906    1.0570678  -1.6839162  -0.5019423  -2.391919   -0.00670567\n",
            "  2.004603   -1.114543    2.4365187  -0.38680705  1.738106   -2.5856972\n",
            "  0.13473088 -0.15190272 -1.0625539   1.8040845  -2.5270634  -0.37132028\n",
            "  1.648337   -1.0208952   2.4714801  -3.6836116  -1.3694539   0.51141655\n",
            " -1.4325039   0.5602358   1.0563834   1.1057807   0.9688903  -0.8549775\n",
            "  1.2441866   0.42665216 -1.2629062   3.8114815   2.4005413   1.2600213\n",
            " -1.8688735  -0.60073197  0.52486724  2.0940459   0.66593236  0.63621765\n",
            " -0.5040827  -0.06651305 -3.1423943   0.06083353 -0.08870482  1.4170141\n",
            "  0.12527137 -0.461363    0.04919485  0.7991654   0.4178501   2.0100434\n",
            "  0.2348421   0.6883231   1.7696596   2.3442304   0.6706991   1.091676\n",
            " -1.849274    1.216558   -3.1163568  -1.1232243  -2.3352773   2.673377\n",
            " -0.7537888   1.7797914  -2.0340948  -2.4737568   0.67966294  0.7284009\n",
            " -0.7392326   0.15409712 -2.0426333  -0.05489079  0.8379741   0.5531082\n",
            "  2.1243558  -0.9206816   1.9332142  -2.4095252  -0.17119353 -1.2278807\n",
            "  0.37171748  1.4704344  -0.48381463 -1.9745525   0.8165666   1.2782371\n",
            " -2.5855248  -4.109554    1.7017008   2.5192118   0.5295839  -2.7234564\n",
            "  0.8070086  -2.639891    0.8402176   1.2436783 ]\n",
            "[-1.592883   -0.6269493   1.8136451   0.41569236 -1.2184216  -1.5883646\n",
            " -0.21798262 -1.6514487  -0.41771093 -1.68581     0.6564791  -2.81413\n",
            "  0.07229255  2.2627845  -0.39340714 -1.2621633  -0.16680332 -0.21145903\n",
            " -0.7834387   0.20627089 -1.2245337  -0.46110046 -1.3156977   1.3634471\n",
            "  0.14865561  0.5031666   1.3548907   0.13806893 -0.24889949  0.74618626\n",
            "  1.3192495   0.32601893  0.37672028  1.6387876   0.8246987   1.6259975\n",
            "  0.43773782  2.3183682   0.7045313  -0.06482173  1.769782    1.4243163\n",
            "  0.38523796 -0.11337484 -0.0792746   0.18591277 -0.7552393  -0.93982136\n",
            "  0.50630796  0.7627089   0.36014023  1.3271221   0.7048777  -1.0799681\n",
            "  0.55556893 -0.72113633  1.2841331   0.80922383  0.61103475  0.3741258\n",
            "  0.12305963  0.9998104  -0.31966367  2.899538   -1.180131   -1.1337421\n",
            " -1.326179    1.3996465  -2.288232   -2.3341193   1.2592809   0.9363738\n",
            " -2.45763     1.0199856   0.37107283  0.6642533   1.0900786   1.1049856\n",
            "  2.4747834   1.1592602  -0.5713285  -1.8138943  -0.4627394  -0.11233232\n",
            "  1.1497449   0.22399741  0.21895841  0.35538876  0.05075414  2.0728683\n",
            " -0.5898907  -0.9294465  -1.5209711   1.0610521  -0.64666176  0.29448372\n",
            "  1.0101808  -0.12710111 -0.37613845 -0.26033583]\n"
          ]
        }
      ],
      "source": [
        "#just check\n",
        "for word in vocab[:5]:\n",
        "  print(word_vec_dict[word])"
      ]
    },
    {
      "cell_type": "markdown",
      "metadata": {
        "_uuid": "c3b1b7b10e439cd36ac8bb406d9cf2a3c6b41e5a",
        "id": "SqKdP_r5vop4"
      },
      "source": [
        "### PREPARING THE DATA FOR KERAS EMBEDDING LAYER."
      ]
    },
    {
      "cell_type": "markdown",
      "metadata": {
        "_uuid": "c11ae84127697c02d4e6f51d1af3159dacb490ae",
        "id": "63dl8_D7vop4"
      },
      "source": [
        "Now we have obtained the w2v embeddings. But there are a couple of steps required by Keras embedding layer before we can move on.\n",
        "\n",
        "**Also note that since w2v embeddings have been made now ; we can preprocess our review column by using the function that we saw above.**"
      ]
    },
    {
      "cell_type": "code",
      "execution_count": null,
      "metadata": {
        "_uuid": "c07b374090e27dac23d28a87fcad917d81b0975c",
        "id": "aempfGb-TNO3"
      },
      "outputs": [],
      "source": [
        "# cleaning reviews.\n",
        "df['clean_review']=df['review_body'].apply(clean_reviews)"
      ]
    },
    {
      "cell_type": "markdown",
      "metadata": {
        "_uuid": "a554aeb0450b5d9c1e96418ff3cd545b88814a41",
        "id": "L9-SrCLNvop4"
      },
      "source": [
        "#### We need to find the maximum lenght of any document or review in our case. WE will pad all reviews to have this same length.This will be required by Keras embedding layer. Must check [this](https://www.kaggle.com/rajmehra03/a-detailed-explanation-of-keras-embedding-layer) kernel on Kaggle for a wonderful explanation of keras embedding layer."
      ]
    },
    {
      "cell_type": "code",
      "execution_count": null,
      "metadata": {
        "_uuid": "d2653074d7010e129645d150ff57a849b1f69cb0",
        "id": "4DmmFNv0TlED",
        "outputId": "ab9e5945-1d3f-4b47-9909-2c832227278e",
        "colab": {
          "base_uri": "https://localhost:8080/"
        }
      },
      "outputs": [
        {
          "output_type": "stream",
          "name": "stdout",
          "text": [
            "864\n"
          ]
        }
      ],
      "source": [
        "# number of unique words = 17642.\n",
        "\n",
        "# now since we will have to pad we need to find the maximum lenght of any document.\n",
        "\n",
        "maxi=-1\n",
        "for i,rev in enumerate(df['clean_review']):\n",
        "  tokens=rev.split()\n",
        "  if(len(tokens)>maxi):\n",
        "    maxi=len(tokens)\n",
        "print(maxi)"
      ]
    },
    {
      "cell_type": "markdown",
      "metadata": {
        "_uuid": "040ec19e7f33e175cfa8a15cd31bd11e48c053db",
        "id": "9t6Jfet4vop5"
      },
      "source": [
        "#### Now we integer encode the words in the reviews using Keras tokenizer. \n",
        "\n",
        "**Note that there two important variables: which are the vocab_size which is the total no of unique words while the second is max_doc_len which is the length of every document after padding. Both of these are required by the Keras embedding layer.**"
      ]
    },
    {
      "cell_type": "code",
      "execution_count": null,
      "metadata": {
        "_uuid": "64fe854ee56f7ac7f1881e690e7d98b5fb10520f",
        "id": "9pw6qdOfntcS"
      },
      "outputs": [],
      "source": [
        "tok = Tokenizer()\n",
        "tok.fit_on_texts(df['clean_review'])\n",
        "vocab_size = len(tok.word_index) + 1\n",
        "encd_rev = tok.texts_to_sequences(df['clean_review'])"
      ]
    },
    {
      "cell_type": "code",
      "execution_count": null,
      "metadata": {
        "_uuid": "865e1a04cd9b78a021b1e1e788af45b244a872cf",
        "id": "S6K-WwbSnnaa"
      },
      "outputs": [],
      "source": [
        "max_rev_len=864  # max lenght of a review\n",
        "vocab_size = len(tok.word_index) + 1  # total no of words\n",
        "embed_dim=100 # embedding dimension as choosen in word2vec constructor"
      ]
    },
    {
      "cell_type": "code",
      "execution_count": null,
      "metadata": {
        "_uuid": "800f7cf8e872c92ff3930eea9c1dd564560225da",
        "id": "h9NqY0ztof_Z",
        "outputId": "39b74002-5062-4503-f79a-0526cabc4f65",
        "colab": {
          "base_uri": "https://localhost:8080/"
        }
      },
      "outputs": [
        {
          "output_type": "execute_result",
          "data": {
            "text/plain": [
              "(50000, 864)"
            ]
          },
          "metadata": {},
          "execution_count": 92
        }
      ],
      "source": [
        "# now padding to have a amximum length of 1565\n",
        "pad_rev= pad_sequences(encd_rev, maxlen=max_rev_len, padding='post')\n",
        "pad_rev.shape   # note that we had 100K reviews and we have padded each review to have  a lenght of 1565 words."
      ]
    },
    {
      "cell_type": "markdown",
      "metadata": {
        "_uuid": "6a6d9bfc59482176a7f5916a7f4ca68aa094e8a8",
        "id": "5qq35qqTvop5"
      },
      "source": [
        "### CREATING THE EMBEDDING MATRIX"
      ]
    },
    {
      "cell_type": "markdown",
      "metadata": {
        "_uuid": "4fa0d53b949cb62e6111a2d07245d8f3ed0a8a4c",
        "id": "9WCuuZdjvop5"
      },
      "source": [
        "\n"
      ]
    },
    {
      "cell_type": "code",
      "execution_count": null,
      "metadata": {
        "_uuid": "f751ae6da742675fc4789fa33421cd87223d651d",
        "id": "GlJCOsmfxu-S"
      },
      "outputs": [],
      "source": [
        "# now creating the embedding matrix\n",
        "embed_matrix=np.zeros(shape=(vocab_size,embed_dim))\n",
        "for word,i in tok.word_index.items():\n",
        "  embed_vector=word_vec_dict.get(word)\n",
        "  if embed_vector is not None:  # word is in the vocabulary learned by the w2v model\n",
        "    embed_matrix[i]=embed_vector\n",
        "  # if word is not found then embed_vector corressponding to that vector will stay zero."
      ]
    },
    {
      "cell_type": "code",
      "execution_count": null,
      "metadata": {
        "_uuid": "f2053c087cc7c811b4f7cd656ffd078833236632",
        "id": "HaH6QTc865Bn",
        "outputId": "aa4eeb7f-684e-4b8a-fd85-72b94160b598",
        "colab": {
          "base_uri": "https://localhost:8080/"
        }
      },
      "outputs": [
        {
          "output_type": "stream",
          "name": "stdout",
          "text": [
            "[-1.02270544  1.68903255  0.96197712  0.22039273  0.54488081 -1.28520119\n",
            "  0.30548918 -0.18557262  0.59502357  0.52351195  2.59328961  0.72548217\n",
            "  0.74023163  1.9755162   0.72038507  0.5469622  -0.52381659  2.08125043\n",
            "  0.49530736  0.00963028  0.16873631  0.21225256 -0.23121022  2.3845005\n",
            "  0.31284866  0.66081506  2.37831259  0.12089077 -1.02842796 -0.02299441\n",
            " -0.19593173 -2.5768683   1.35332429  0.71290058  1.59513903 -1.23864543\n",
            " -2.68241358 -2.01168776 -1.33537412  0.18032724  2.70774913  1.0714767\n",
            "  0.15928094  1.2433852  -2.01404238 -0.31898686  1.84889877  0.62318939\n",
            "  1.68551302  0.94095796 -1.94330335 -0.25611097 -0.36068547  0.73992944\n",
            "  0.77674252  1.40886128  0.93105477 -0.06325792  0.98345608  2.25248981\n",
            "  0.37534621  0.105055    0.14191245  0.12529299  0.16005531  0.46031779\n",
            "  1.24156034 -1.87979949  2.74796367 -1.27429664  0.11646506  2.5239327\n",
            " -1.9948411   1.97571027 -0.59736043 -0.91857111 -0.87826413 -1.06080234\n",
            "  0.62121588 -1.13254499 -1.61669827  0.14996479  1.09282351  0.71132618\n",
            "  0.34031096 -0.15813103  1.79983473 -0.33607373 -0.66655326  2.27493191\n",
            " -2.52844596 -0.0127778  -2.44911551  1.5281738  -1.36003816 -1.5888679\n",
            " -0.34875536 -0.49357826 -1.31711495 -0.40485153]\n"
          ]
        }
      ],
      "source": [
        "# checking.\n",
        "print(embed_matrix[14])"
      ]
    },
    {
      "cell_type": "markdown",
      "metadata": {
        "_uuid": "922f83048b341c34a28b49e6114e612b507b87e6",
        "id": "rwoFFrW59Rjk"
      },
      "source": [
        "### PREPARING TRAIN AND VALIDATION SETS."
      ]
    },
    {
      "cell_type": "code",
      "execution_count": null,
      "metadata": {
        "_uuid": "ff5829cf69c1ac4fdb14c24d9be3c14683363a45",
        "id": "jNGi31a5AHxC"
      },
      "outputs": [],
      "source": [
        "# prepare train and val sets first\n",
        "#Y=keras.utils.to_categorical(df['sentiment'])  # one hot target as required by NN.\n",
        "x_train,x_test,y_train,y_test=train_test_split(pad_rev,df['sentiment'],test_size=0.10,random_state=42)"
      ]
    },
    {
      "cell_type": "markdown",
      "metadata": {
        "_uuid": "e1e22e81bc6a49adaad7c4ca4d36e058f6d672f3",
        "id": "wCDbQrHzvop6"
      },
      "source": [
        "### Modelling RNN model "
      ]
    },
    {
      "cell_type": "code",
      "execution_count": null,
      "metadata": {
        "_uuid": "3b1b2e253f0a76b487e2732ffc5f1b32c5e8e0c0",
        "id": "ZmsnBmEf-Ktr",
        "colab": {
          "base_uri": "https://localhost:8080/"
        },
        "outputId": "66704637-3c51-420f-aea1-03e6712f3221"
      },
      "outputs": [
        {
          "output_type": "stream",
          "name": "stdout",
          "text": [
            "Model: \"sequential_5\"\n",
            "_________________________________________________________________\n",
            " Layer (type)                Output Shape              Param #   \n",
            "=================================================================\n",
            " embedding_5 (Embedding)     (None, 864, 128)          2258304   \n",
            "                                                                 \n",
            " lstm_7 (LSTM)               (None, 864, 64)           49408     \n",
            "                                                                 \n",
            " dropout_6 (Dropout)         (None, 864, 64)           0         \n",
            "                                                                 \n",
            " lstm_8 (LSTM)               (None, 64)                33024     \n",
            "                                                                 \n",
            " dropout_7 (Dropout)         (None, 64)                0         \n",
            "                                                                 \n",
            " dense_3 (Dense)             (None, 1)                 65        \n",
            "                                                                 \n",
            "=================================================================\n",
            "Total params: 2,340,801\n",
            "Trainable params: 2,340,801\n",
            "Non-trainable params: 0\n",
            "_________________________________________________________________\n"
          ]
        }
      ],
      "source": [
        "import tensorflow as tf\n",
        "from keras.initializers import Constant\n",
        "from keras.layers import ReLU\n",
        "from keras.layers import Dropout\n",
        "from tensorflow.keras import optimizers\n",
        "\n",
        "layers=64\n",
        "dropout=0.5\n",
        "\n",
        "model = tf.keras.models.Sequential()\n",
        "model.add(tf.keras.layers.Embedding(17643, 128, input_length=864))\n",
        "model.add(tf.keras.layers.LSTM(layers,return_sequences=True))\n",
        "model.add(tf.keras.layers.Dropout(dropout))\n",
        "model.add(tf.keras.layers.LSTM(layers))\n",
        "model.add(tf.keras.layers.Dropout(dropout))\n",
        "model.add(tf.keras.layers.Dense(1, activation='sigmoid'))\n",
        "\n",
        "model.compile('adam', 'binary_crossentropy', metrics=['accuracy'])\n",
        "\n",
        "model.summary()"
      ]
    },
    {
      "cell_type": "markdown",
      "metadata": {
        "_uuid": "915d060b56a109792dfff8a8283e6b94dc483773",
        "id": "xGT2wytkvop6"
      },
      "source": [
        "#### Let us now print a summary of the model."
      ]
    },
    {
      "cell_type": "code",
      "execution_count": null,
      "metadata": {
        "_uuid": "087c686671c54c334bd605a1b76738156f9b975d",
        "id": "rtVq2ncD_2a1"
      },
      "outputs": [],
      "source": [
        "# compile the model\n",
        "#from keras.optimizers import rmsprop_v2\n",
        "import tensorflow as tf\n",
        "model.compile(optimizer=tf.keras.optimizers.Adam(),loss='binary_crossentropy',metrics=['accuracy'])"
      ]
    },
    {
      "cell_type": "code",
      "execution_count": null,
      "metadata": {
        "_uuid": "ed1c7cc4bb2219ca59cf3c777c0222bc2a059083",
        "id": "xn6g-HknAe9A"
      },
      "outputs": [],
      "source": [
        "# specify batch size and epochs for training.\n",
        "epochs=2\n",
        "batch_size=32"
      ]
    },
    {
      "cell_type": "code",
      "execution_count": null,
      "metadata": {
        "_uuid": "89e963f56a787c2096706fee9357afcf6121290a",
        "id": "gvDNMDeWADh9",
        "colab": {
          "base_uri": "https://localhost:8080/"
        },
        "outputId": "271b1ef8-d71e-49aa-8910-722990e8281e"
      },
      "outputs": [
        {
          "output_type": "stream",
          "name": "stdout",
          "text": [
            "Epoch 1/2\n",
            "1407/1407 [==============================] - 1757s 1s/step - loss: 0.3346 - accuracy: 0.8993 - val_loss: 0.3184 - val_accuracy: 0.9032\n",
            "Epoch 2/2\n",
            "1407/1407 [==============================] - 1748s 1s/step - loss: 0.3299 - accuracy: 0.8996 - val_loss: 0.3184 - val_accuracy: 0.9032\n"
          ]
        }
      ],
      "source": [
        "\n",
        "# fitting the model.\n",
        "history=model.fit(x_train,y_train,epochs=epochs,batch_size=batch_size,validation_data=(x_test,y_test))"
      ]
    },
    {
      "cell_type": "code",
      "source": [
        "y_pred= model.predict(x_test)\n"
      ],
      "metadata": {
        "id": "o5ZwpXZtY8ul"
      },
      "execution_count": null,
      "outputs": []
    },
    {
      "cell_type": "code",
      "source": [
        "y_pred=np.argmax(y_pred,axis=1)"
      ],
      "metadata": {
        "id": "-eQiFlw0dPKm"
      },
      "execution_count": null,
      "outputs": []
    },
    {
      "cell_type": "code",
      "source": [
        "import sklearn\n",
        "sklearn.metrics.accuracy_score(y_pred,y_test)"
      ],
      "metadata": {
        "colab": {
          "base_uri": "https://localhost:8080/"
        },
        "id": "8phc3fBDaUSz",
        "outputId": "ef24e258-b809-4515-96ab-13836a89a8e8"
      },
      "execution_count": null,
      "outputs": [
        {
          "output_type": "execute_result",
          "data": {
            "text/plain": [
              "0.0968"
            ]
          },
          "metadata": {},
          "execution_count": 127
        }
      ]
    },
    {
      "cell_type": "code",
      "source": [
        "sklearn.metrics.confusion_matrix(y_pred,y_test)"
      ],
      "metadata": {
        "colab": {
          "base_uri": "https://localhost:8080/"
        },
        "id": "3f7jjk4iaUJa",
        "outputId": "4e882052-9a3d-4f5f-af4a-f3d85a6eff2f"
      },
      "execution_count": null,
      "outputs": [
        {
          "output_type": "execute_result",
          "data": {
            "text/plain": [
              "array([[ 484, 4516],\n",
              "       [   0,    0]])"
            ]
          },
          "metadata": {},
          "execution_count": 126
        }
      ]
    },
    {
      "cell_type": "code",
      "source": [
        "from sklearn.metrics import classification_report\n",
        "print(classification_report(y_test,y_pred))"
      ],
      "metadata": {
        "colab": {
          "base_uri": "https://localhost:8080/"
        },
        "id": "x5sLqHoZaT8N",
        "outputId": "d7f82cdf-9cfe-46e6-9c38-888b9d37f550"
      },
      "execution_count": null,
      "outputs": [
        {
          "output_type": "stream",
          "name": "stdout",
          "text": [
            "              precision    recall  f1-score   support\n",
            "\n",
            "           0       0.10      1.00      0.18       484\n",
            "           1       0.00      0.00      0.00      4516\n",
            "\n",
            "    accuracy                           0.10      5000\n",
            "   macro avg       0.05      0.50      0.09      5000\n",
            "weighted avg       0.01      0.10      0.02      5000\n",
            "\n"
          ]
        }
      ]
    },
    {
      "cell_type": "markdown",
      "metadata": {
        "_uuid": "37b2ea17080f0d7f04d8da9a09db76333215eb11",
        "id": "eOsqzdCsD-ia"
      },
      "source": [
        "\n",
        "\n",
        "The final accuracy after 2 epochs is about 90% which is pretty decent."
      ]
    },
    {
      "cell_type": "code",
      "source": [
        ""
      ],
      "metadata": {
        "id": "6f5CW-kRfVPO"
      },
      "execution_count": null,
      "outputs": []
    },
    {
      "cell_type": "markdown",
      "metadata": {
        "_uuid": "a1c2fdb1c54cae3dd9303ed07434da397e0d6d12",
        "id": "h4BEuqwpvop7"
      },
      "source": [
        "### Challenges faced\n",
        "\n",
        "1) Dataset provided has around 440k rows and 14 columns which took quite a time to perform preprocessing of the data. \n",
        "\n",
        "2)After Prepocessing I saw it was a imbalanced Dataset.\n",
        " \n",
        "\n",
        "3) Due to the unavailability of high performing computers, I was able to perform the modelling on relatively smaller data of scale 1 in 10.\n",
        "\n",
        "4) Due to the time constraint couldn't complete proper hypertuning of the parameters to improve performance of LSTM model developed. \n",
        "\n",
        "5) Although the validation accuracy of the model developed is on higher side, still quite a good amount of underlying study of models can be done to build an ideal model.\n",
        "\n",
        " "
      ]
    },
    {
      "cell_type": "code",
      "source": [
        ""
      ],
      "metadata": {
        "id": "PUVciDWLfcQa"
      },
      "execution_count": null,
      "outputs": []
    }
  ],
  "metadata": {
    "kernelspec": {
      "display_name": "Python 3",
      "language": "python",
      "name": "python3"
    },
    "language_info": {
      "codemirror_mode": {
        "name": "ipython",
        "version": 3
      },
      "file_extension": ".py",
      "mimetype": "text/x-python",
      "name": "python",
      "nbconvert_exporter": "python",
      "pygments_lexer": "ipython3",
      "version": "3.6.4"
    },
    "colab": {
      "name": "LSTM_word2vec-lstm.ipynb",
      "provenance": [],
      "collapsed_sections": [
        "L9-SrCLNvop4",
        "9t6Jfet4vop5"
      ]
    }
  },
  "nbformat": 4,
  "nbformat_minor": 0
}